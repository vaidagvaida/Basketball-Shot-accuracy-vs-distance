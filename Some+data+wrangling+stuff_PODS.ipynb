{
 "cells": [
  {
   "cell_type": "markdown",
   "metadata": {},
   "source": [
    "# INM430 - Tiny DS Project Progress Report\n",
    "\n"
   ]
  },
  {
   "cell_type": "markdown",
   "metadata": {},
   "source": [
    "## Part-1: Data source and domain description (maximum 150 words):\n",
    "\n",
    "As a Lithuanian,and a basketball fan since I was 7, I have decided to look at the NBA data. I Will be using 2 datasets for my analysis. I have selected the first dataset from www.Kaggle.com, which contains data of all the playes who took a shot during the 2014 - 2015 season.  Data also contains where was the shot taken from,shot result (Made it or failed it), the nearest defender, distance from defender, time on the shot clock and a few more. I have created the second data set by scraping the data from www.basketball-reference.com. I have used a python module called beautifulsoup (https://pypi.python.org/pypi/beautifulsoup4) in order to scrape the data. The second dataset contains the average game statistics for each basketball player during 2014 - 2015 season. I have joined the dataset by the Name of the player. With this data I will try to identify what factors influence players' success in making a shot. \n",
    "\n",
    "***\n",
    "\n",
    "## Part-2: Analysis Strategy and Plans (maximum 200 words):\n",
    "\n",
    "In this project I will try to investigate what factors influence whether the player makes the shot or not. For example whether playing home helps players be more accurate than playing away, if players tend to score better at the end of the middle of score timer or at the very end. By joining two datasets together I will get the average statistics for each player per game (as well as other information (e.g the team they play for and possition they play)) as well as each shot they have made during 2014 - 2015 season. I will try to apply regression analysis as well as other methods that I might learn later in this year. \n",
    "\n",
    "***\n",
    "***\n",
    "\n",
    "## Part-3: Initial investigations on the data sources (maximum 150 words): \n",
    "\n",
    "I have looked at both datasets and found out that there have been a few misspellings in the dataset, I have taken from Kaggle. I have since updated these by creating a function that alters names to match the scraped dataset. Another problem that I have encountered is that some players have played for more than one team during this season - therefore ,  when merging data, the team players play for is likely to be incorrect, I will need to find out the time of the game (which is indicated in the 'matchup'column, which I will have to split in order to get the time game has occured) and cross-reference with instances mentioned in the scraped dataset. Also, not every shot has a shot clock value, therefore I will need to apply missing value treatment. I will need to decide weather I need to ignore these cases and remove them from the dataset or use mean/median shot clock value for each type of point (perhaps look at this by player: e.g replace Jonas Valanciunas' 2 point missing shot clock values with Jonas Valanciunas' median 2 point shot clock value). \n",
    "***\n",
    "***\n",
    "\n",
    "# Part-4: Python code for initial investigations\n",
    "\n",
    "\n"
   ]
  },
  {
   "cell_type": "markdown",
   "metadata": {},
   "source": [
    "\n",
    "# 4.1 Loading important libraries"
   ]
  },
  {
   "cell_type": "code",
   "execution_count": 17,
   "metadata": {
    "collapsed": true
   },
   "outputs": [],
   "source": [
    "# This cell is where you can copy + paste your Python code which loads your data and produces \n",
    "# When you press CTRL+Enter, this cell will execute and produce some output\n",
    "# You can develop your code in Spyder (or another IDE) and copy + paste over here\n",
    "\n",
    "# Step-1: Load your data\n",
    "# Step-2: Get an overview of the data features, some suggestions to look for:\n",
    "#         number of features, data types, any missing values?, \n",
    "#         any transformations needed?\n",
    "\n",
    "# Start with your import (s) here.\n",
    "\n",
    "# The following is essential to get your matplotlib plots inline, so do not miss this one if you have graphics.\n",
    "\n",
    "\n",
    "# Some usual imports here##Importing libraries\n",
    "import pandas as pd\n",
    "import numpy as np\n",
    "import scipy as sp\n",
    "import urllib\n",
    "import urllib.request\n",
    "from bs4 import BeautifulSoup\n",
    "from sklearn import datasets\n",
    "%matplotlib inline\n",
    "import matplotlib.pyplot as plt\n",
    "import datetime\n",
    "import time\n",
    "from scipy import stats"
   ]
  },
  {
   "cell_type": "markdown",
   "metadata": {},
   "source": [
    "# 4.2 Scraping the data In order to find 2014 - 2015 NBA stats \n",
    "Data from http://www.basketball-reference.com/leagues/NBA_2015_per_game.html "
   ]
  },
  {
   "cell_type": "code",
   "execution_count": 18,
   "metadata": {
    "collapsed": false
   },
   "outputs": [],
   "source": [
    "def make_soup(url):\n",
    "    thepage = urllib.request.urlopen(url)\n",
    "    soupdata = BeautifulSoup(thepage,'html.parser')\n",
    "    return soupdata\n",
    "#Takes a while ...\n",
    "##Loup to get each cell of the table\n",
    "soup = make_soup('http://www.basketball-reference.com/leagues/NBA_2015_per_game.html')\n",
    "statspg = statspgasaved = ''\n",
    "for row in soup.findAll('tr'): ##Find rows\n",
    "    statspg = ''\n",
    "    for column in row.findAll('td'): ##Find columns\n",
    "        statspg = statspg +','+column.text\n",
    "    if len(statspg)!=0:\n",
    "        statspgasaved = statspgasaved+'\\n'+statspg[0:]\n",
    "\n"
   ]
  },
  {
   "cell_type": "markdown",
   "metadata": {},
   "source": [
    "## 4.2.1 Exporting scraped data to CSV -  To then be imported back to be used as dataframe. "
   ]
  },
  {
   "cell_type": "code",
   "execution_count": 19,
   "metadata": {
    "collapsed": false
   },
   "outputs": [
    {
     "data": {
      "text/html": [
       "<div>\n",
       "<table border=\"1\" class=\"dataframe\">\n",
       "  <thead>\n",
       "    <tr style=\"text-align: right;\">\n",
       "      <th></th>\n",
       "      <th>Player</th>\n",
       "      <th>Pos</th>\n",
       "      <th>Age</th>\n",
       "      <th>Tm</th>\n",
       "      <th>G</th>\n",
       "      <th>GS</th>\n",
       "      <th>MP</th>\n",
       "      <th>FG</th>\n",
       "      <th>FGA</th>\n",
       "      <th>FG%</th>\n",
       "      <th>...</th>\n",
       "      <th>FT%</th>\n",
       "      <th>ORB</th>\n",
       "      <th>DRB</th>\n",
       "      <th>TRB</th>\n",
       "      <th>AST</th>\n",
       "      <th>STL</th>\n",
       "      <th>BLK</th>\n",
       "      <th>TOV</th>\n",
       "      <th>PF</th>\n",
       "      <th>PTS</th>\n",
       "    </tr>\n",
       "  </thead>\n",
       "  <tbody>\n",
       "    <tr>\n",
       "      <th>0</th>\n",
       "      <td>Quincy Acy</td>\n",
       "      <td>PF</td>\n",
       "      <td>24</td>\n",
       "      <td>NYK</td>\n",
       "      <td>68</td>\n",
       "      <td>22</td>\n",
       "      <td>18.9</td>\n",
       "      <td>2.2</td>\n",
       "      <td>4.9</td>\n",
       "      <td>0.459</td>\n",
       "      <td>...</td>\n",
       "      <td>0.784</td>\n",
       "      <td>1.2</td>\n",
       "      <td>3.3</td>\n",
       "      <td>4.4</td>\n",
       "      <td>1.0</td>\n",
       "      <td>0.4</td>\n",
       "      <td>0.3</td>\n",
       "      <td>0.9</td>\n",
       "      <td>2.2</td>\n",
       "      <td>5.9</td>\n",
       "    </tr>\n",
       "    <tr>\n",
       "      <th>1</th>\n",
       "      <td>Jordan Adams</td>\n",
       "      <td>SG</td>\n",
       "      <td>20</td>\n",
       "      <td>MEM</td>\n",
       "      <td>30</td>\n",
       "      <td>0</td>\n",
       "      <td>8.3</td>\n",
       "      <td>1.2</td>\n",
       "      <td>2.9</td>\n",
       "      <td>0.407</td>\n",
       "      <td>...</td>\n",
       "      <td>0.609</td>\n",
       "      <td>0.3</td>\n",
       "      <td>0.6</td>\n",
       "      <td>0.9</td>\n",
       "      <td>0.5</td>\n",
       "      <td>0.5</td>\n",
       "      <td>0.2</td>\n",
       "      <td>0.5</td>\n",
       "      <td>0.8</td>\n",
       "      <td>3.1</td>\n",
       "    </tr>\n",
       "  </tbody>\n",
       "</table>\n",
       "<p>2 rows × 29 columns</p>\n",
       "</div>"
      ],
      "text/plain": [
       "         Player Pos  Age   Tm   G  GS    MP   FG  FGA    FG% ...     FT%  ORB  \\\n",
       "0    Quincy Acy  PF   24  NYK  68  22  18.9  2.2  4.9  0.459 ...   0.784  1.2   \n",
       "1  Jordan Adams  SG   20  MEM  30   0   8.3  1.2  2.9  0.407 ...   0.609  0.3   \n",
       "\n",
       "   DRB  TRB  AST  STL  BLK  TOV   PF  PTS  \n",
       "0  3.3  4.4  1.0  0.4  0.3  0.9  2.2  5.9  \n",
       "1  0.6  0.9  0.5  0.5  0.2  0.5  0.8  3.1  \n",
       "\n",
       "[2 rows x 29 columns]"
      ]
     },
     "execution_count": 19,
     "metadata": {},
     "output_type": "execute_result"
    }
   ],
   "source": [
    "import os\n",
    "header = \"Rk,Player,Pos,Age,Tm,G,GS,MP,FG,FGA,FG%,3P,3PA,3P%,2P,2PA,2P%,eFG%,FT,FTA,FT%,ORB,DRB,TRB,AST,STL,BLK,TOV,PF,PTS\"\n",
    "file = open(os.path.expanduser(\"Stats_per_game.csv\"),\"wb\") ## creating a new file to write the data in\n",
    "file.write(bytes(header,encoding = 'utf-8', errors ='ignore' )) ##Adding header\n",
    "file.write(bytes(statspgasaved,encoding = 'utf-8', errors ='ignore' )) \n",
    "STATSPERGAME = pd.read_csv('Stats_per_game.csv',encoding = 'utf-8')\n",
    "del STATSPERGAME['Rk'] #empty useless column \n",
    "#STATSPERGAME.shape[0]-STATSPERGAME.count() ##Looking for missing values. \n",
    "STATSPERGAME.head(n=2)"
   ]
  },
  {
   "cell_type": "markdown",
   "metadata": {},
   "source": [
    "# 4.3 Loading NBA season 2014 - 2015 data \n",
    "taken from: https://www.kaggle.com/dansbecker/nba-shot-logs"
   ]
  },
  {
   "cell_type": "code",
   "execution_count": 20,
   "metadata": {
    "collapsed": false
   },
   "outputs": [
    {
     "data": {
      "text/html": [
       "<div>\n",
       "<table border=\"1\" class=\"dataframe\">\n",
       "  <thead>\n",
       "    <tr style=\"text-align: right;\">\n",
       "      <th></th>\n",
       "      <th>GAME_ID</th>\n",
       "      <th>MATCHUP</th>\n",
       "      <th>LOCATION</th>\n",
       "      <th>W</th>\n",
       "      <th>FINAL_MARGIN</th>\n",
       "      <th>SHOT_NUMBER</th>\n",
       "      <th>PERIOD</th>\n",
       "      <th>GAME_CLOCK</th>\n",
       "      <th>SHOT_CLOCK</th>\n",
       "      <th>DRIBBLES</th>\n",
       "      <th>...</th>\n",
       "      <th>PTS_TYPE</th>\n",
       "      <th>SHOT_RESULT</th>\n",
       "      <th>CLOSEST_DEFENDER_SURNAME</th>\n",
       "      <th>CLOSEST_DEFENDER_NAME</th>\n",
       "      <th>CLOSEST_DEFENDER_PLAYER_ID</th>\n",
       "      <th>CLOSE_DEF_DIST</th>\n",
       "      <th>FGM</th>\n",
       "      <th>PTS</th>\n",
       "      <th>player_name</th>\n",
       "      <th>player_id</th>\n",
       "    </tr>\n",
       "  </thead>\n",
       "  <tbody>\n",
       "    <tr>\n",
       "      <th>0</th>\n",
       "      <td>21400899</td>\n",
       "      <td>MAR 04, 2015 - CHA @ BKN</td>\n",
       "      <td>A</td>\n",
       "      <td>W</td>\n",
       "      <td>24</td>\n",
       "      <td>1</td>\n",
       "      <td>1</td>\n",
       "      <td>01:09</td>\n",
       "      <td>10.8</td>\n",
       "      <td>2</td>\n",
       "      <td>...</td>\n",
       "      <td>2</td>\n",
       "      <td>made</td>\n",
       "      <td>Anderson</td>\n",
       "      <td>Alan</td>\n",
       "      <td>101187</td>\n",
       "      <td>1.3</td>\n",
       "      <td>1</td>\n",
       "      <td>2</td>\n",
       "      <td>BRIAN ROBERTS</td>\n",
       "      <td>203148</td>\n",
       "    </tr>\n",
       "    <tr>\n",
       "      <th>1</th>\n",
       "      <td>21400899</td>\n",
       "      <td>MAR 04, 2015 - CHA @ BKN</td>\n",
       "      <td>A</td>\n",
       "      <td>W</td>\n",
       "      <td>24</td>\n",
       "      <td>2</td>\n",
       "      <td>1</td>\n",
       "      <td>00:14</td>\n",
       "      <td>3.4</td>\n",
       "      <td>0</td>\n",
       "      <td>...</td>\n",
       "      <td>3</td>\n",
       "      <td>missed</td>\n",
       "      <td>Bogdanovic</td>\n",
       "      <td>Bojan</td>\n",
       "      <td>202711</td>\n",
       "      <td>6.1</td>\n",
       "      <td>0</td>\n",
       "      <td>0</td>\n",
       "      <td>BRIAN ROBERTS</td>\n",
       "      <td>203148</td>\n",
       "    </tr>\n",
       "  </tbody>\n",
       "</table>\n",
       "<p>2 rows × 22 columns</p>\n",
       "</div>"
      ],
      "text/plain": [
       "    GAME_ID                   MATCHUP LOCATION  W  FINAL_MARGIN  SHOT_NUMBER  \\\n",
       "0  21400899  MAR 04, 2015 - CHA @ BKN        A  W            24            1   \n",
       "1  21400899  MAR 04, 2015 - CHA @ BKN        A  W            24            2   \n",
       "\n",
       "   PERIOD GAME_CLOCK  SHOT_CLOCK  DRIBBLES    ...      PTS_TYPE  SHOT_RESULT  \\\n",
       "0       1      01:09        10.8         2    ...             2         made   \n",
       "1       1      00:14         3.4         0    ...             3       missed   \n",
       "\n",
       "   CLOSEST_DEFENDER_SURNAME CLOSEST_DEFENDER_NAME CLOSEST_DEFENDER_PLAYER_ID  \\\n",
       "0                  Anderson                  Alan                     101187   \n",
       "1                Bogdanovic                 Bojan                     202711   \n",
       "\n",
       "  CLOSE_DEF_DIST  FGM  PTS    player_name  player_id  \n",
       "0            1.3    1    2  BRIAN ROBERTS     203148  \n",
       "1            6.1    0    0  BRIAN ROBERTS     203148  \n",
       "\n",
       "[2 rows x 22 columns]"
      ]
     },
     "execution_count": 20,
     "metadata": {},
     "output_type": "execute_result"
    }
   ],
   "source": [
    "basketballdf = pd.read_csv('shot_logs.csv',encoding = 'utf-8-sig')\n",
    "basketballdf.head(n=2)\n",
    "#Need to change the names to be uppercase for each dataset so I can merge on them. \n",
    "basketballdf['player_name'] = basketballdf['player_name'].str.upper()\n",
    "basketballdf.head(n=2)"
   ]
  },
  {
   "cell_type": "markdown",
   "metadata": {},
   "source": [
    "# 4.3.1 Kaggle data management\n",
    "\n",
    "\n",
    "## 4.3.1.a  Splitting data columns "
   ]
  },
  {
   "cell_type": "code",
   "execution_count": 21,
   "metadata": {
    "collapsed": false
   },
   "outputs": [],
   "source": [
    "basketballdf['Date'], basketballdf['game'] = zip(*basketballdf['MATCHUP'].map(lambda x: x.split('-')))\n",
    "basketballdf['Minutes'], basketballdf['seconds'] = zip(*basketballdf['GAME_CLOCK'].map(lambda x: x.split(':')))\n",
    " \n",
    "def minsec(a):\n",
    "    if a[0] == \"0\":\n",
    "        return float(a[1])\n",
    "    else:\n",
    "        return float(a)\n",
    "    \n",
    "sec = basketballdf.apply(lambda x: minsec(x['seconds']), axis=1)\n",
    "basketballdf['seconds'] = sec\n",
    "mint = basketballdf.apply(lambda x: minsec(x['Minutes']), axis=1)\n",
    "basketballdf['Minutes'] = mint\n"
   ]
  },
  {
   "cell_type": "markdown",
   "metadata": {},
   "source": [
    "## 4.3.1.b Re-formatting defender names to have the same format as player names"
   ]
  },
  {
   "cell_type": "code",
   "execution_count": 22,
   "metadata": {
    "collapsed": false
   },
   "outputs": [],
   "source": [
    "##Had to split the column in excel (There was a bug of some kind that did not allow me to do so in python!!). \n",
    "#Now joiningg it tohether so instead of surname,name column format is name,surname. \n",
    "basketballdf['CLOSEST_DEFENDER'] =basketballdf[\"CLOSEST_DEFENDER_NAME\"].map(str) + \" \"+ basketballdf[\"CLOSEST_DEFENDER_SURNAME\"]\n",
    "del basketballdf[\"CLOSEST_DEFENDER_NAME\"]\n",
    "del basketballdf[\"CLOSEST_DEFENDER_SURNAME\"]\n",
    "basketballdf['CLOSEST_DEFENDER']=basketballdf['CLOSEST_DEFENDER'].str.upper()\n",
    "#basketballdf.head(n=2) ##test if merging columns worked"
   ]
  },
  {
   "cell_type": "markdown",
   "metadata": {},
   "source": [
    "## 4.3.1.c Correcting misspelled names\n",
    "\n",
    "By pre-merging data files I have discovered that there were a few names that have been misspelled or spelled differently than names in scraped dataset.  I have googled the misspelled names to double check the spelling.  the below cell has a funcion that replaces misspelled/differently - spelled names to make them uniform."
   ]
  },
  {
   "cell_type": "code",
   "execution_count": 23,
   "metadata": {
    "collapsed": true
   },
   "outputs": [],
   "source": [
    "\n",
    "##Creating a function to fix misspelled names (crosschecked with www.basketball-reference.com)\n",
    "def typos(a):\n",
    "    if a == \"JON INGLES\":\n",
    "        return \"JOE INGLES\"\n",
    "    elif a==\"JIMMER DREDETTE\":\n",
    "        return \"JIMMER FREDETTE\"\n",
    "    elif a==\"MNTA ELLIS\":\n",
    "        return \"MONTA ELLIS\"\n",
    "    elif a==\"JOSE JUAN BAREA\":\n",
    "        return \"J.J. BAREA\"\n",
    "    elif a==\"AL FAROUQ AMINU\":\n",
    "        return\"AL-FAROUQ AMINU\"\n",
    "    elif a==\"DIRK NOWTIZSKI\":\n",
    "        return\"DIRK NOWITZKI\"\n",
    "    elif a==\"KYLE OQUINN\":\n",
    "        return\"KYLE O'QUINN\"\n",
    "    elif a==\"CJ WATSON\":\n",
    "        return\"C.J. WATSON\"\n",
    "    elif a==\"CJ MILES\":\n",
    "        return\"C.J. MILES\"\n",
    "    elif a==\"DANILO GALLINAI\":\n",
    "        return\"DANILO GALLINARI\"\n",
    "    elif a==\"JJ HICKSON\":\n",
    "        return\"J.J. HICKSON\"\n",
    "    elif a==\"PJ TUCKER\":\n",
    "        return\"P.J. TUCKER\"\n",
    "    elif a==\"NERLES NOEL\":\n",
    "        return\"NERLENS NOEL\"\n",
    "    elif a==\"KJ MCDANIELS\":\n",
    "        return\"K.J. MCDANIELS\"\n",
    "    elif a==\"OJ MAYO\":\n",
    "        return\"O.J. MAYO\"\n",
    "    elif a==\"BENO URDIH\":\n",
    "        return\"BENO UDRIH\"\n",
    "    elif a==\"AMARE STOUDEMIRE\":\n",
    "        return\"AMAR'E STOUDEMIRE\"\n",
    "    elif a==\"TIME HARDAWAY JR\":\n",
    "        return\"TIM HARDAWAY\"\n",
    "    elif a==\"DJ AUGUSTIN\":\n",
    "        return\"D.J. AUGUSTIN\"\n",
    "    elif a==\"DWAYNE WADE\":\n",
    "        return\"DWYANE WADE\"\n",
    "    elif a==\"STEVE ADAMS\":\n",
    "        return\"STEVEN ADAMS\"\n",
    "    elif a==\"JJ REDICK\":\n",
    "        return\"J.J. REDICK\"\n",
    "    elif a==\"CJ MCCOLLUM\":\n",
    "        return\"C.J. MCCOLLUM\"\n",
    "    elif a==\"ALAN CRABBE\":\n",
    "        return\"ALLEN CRABBE\"\n",
    "    else:\n",
    "        return a    \n",
    "#Player name\n",
    "player_name = basketballdf.apply(lambda x: typos(x['player_name']), axis=1)\n",
    "basketballdf['player_name'] = player_name\n",
    "#Defender name\n",
    "defender_name = basketballdf.apply(lambda x: typos(x['CLOSEST_DEFENDER']), axis=1)\n",
    "basketballdf['CLOSEST_DEFENDER'] = defender_name\n"
   ]
  },
  {
   "cell_type": "markdown",
   "metadata": {},
   "source": [
    "# 4.4 Merging NBA kaggle data with NBA scraped data.\n"
   ]
  },
  {
   "cell_type": "code",
   "execution_count": 24,
   "metadata": {
    "collapsed": false
   },
   "outputs": [
    {
     "data": {
      "text/plain": [
       "GAME_ID                       0.000000\n",
       "MATCHUP                       0.000000\n",
       "LOCATION                      0.000000\n",
       "W                             0.000000\n",
       "FINAL_MARGIN                  0.000000\n",
       "SHOT_NUMBER                   0.000000\n",
       "PERIOD                        0.000000\n",
       "GAME_CLOCK                    0.000000\n",
       "SHOT_CLOCK                    4.431259\n",
       "DRIBBLES                      0.000000\n",
       "TOUCH_TIME                    0.000000\n",
       "SHOT_DIST                     0.000000\n",
       "PTS_TYPE                      0.000000\n",
       "SHOT_RESULT                   0.000000\n",
       "CLOSEST_DEFENDER_PLAYER_ID    0.000000\n",
       "CLOSE_DEF_DIST                0.000000\n",
       "FGM                           0.000000\n",
       "PTS_x                         0.000000\n",
       "player_name                   0.000000\n",
       "player_id                     0.000000\n",
       "Date                          0.000000\n",
       "game                          0.000000\n",
       "Minutes                       0.000000\n",
       "seconds                       0.000000\n",
       "CLOSEST_DEFENDER              0.000000\n",
       "Player                        0.000000\n",
       "Pos                           0.000000\n",
       "Age                           0.000000\n",
       "Tm                            0.000000\n",
       "G                             0.000000\n",
       "GS                            0.000000\n",
       "MP                            0.000000\n",
       "FG                            0.000000\n",
       "FGA                           0.000000\n",
       "FG%                           0.000000\n",
       "3P                            0.000000\n",
       "3PA                           0.000000\n",
       "3P%                           5.178276\n",
       "2P                            0.000000\n",
       "2PA                           0.000000\n",
       "2P%                           0.000000\n",
       "eFG%                          0.000000\n",
       "FT                            0.000000\n",
       "FTA                           0.000000\n",
       "FT%                           0.000000\n",
       "ORB                           0.000000\n",
       "DRB                           0.000000\n",
       "TRB                           0.000000\n",
       "AST                           0.000000\n",
       "STL                           0.000000\n",
       "BLK                           0.000000\n",
       "TOV                           0.000000\n",
       "PF                            0.000000\n",
       "PTS_y                         0.000000\n",
       "dtype: float64"
      ]
     },
     "execution_count": 24,
     "metadata": {},
     "output_type": "execute_result"
    }
   ],
   "source": [
    "STATSPERGAME['Player'] = STATSPERGAME['Player'].str.upper()\n",
    "MASTERBBDF = pd.merge(basketballdf, STATSPERGAME, left_on = 'player_name', right_on='Player', how='left')\n",
    "MASTERBBDF.to_csv('MASTER_BASKETBALL_DATASET.csv')\n",
    "##checking for missing values\n",
    "\n",
    "# % of missing values\n",
    "a = ((MASTERBBDF.shape[0] -MASTERBBDF.count())/MASTERBBDF.count())*100\n",
    "\n",
    "a"
   ]
  },
  {
   "cell_type": "markdown",
   "metadata": {},
   "source": [
    "# 4.5 Preparing for Analysis.\n",
    "\n",
    "\n",
    "## 4.5.1 Normalising data\n",
    "\n",
    "### Legend:\n",
    "\n",
    "** Location: ** \n",
    "    1 = Home\n",
    "    0 = Away\n",
    "\n",
    "** Win/Lose: ** \n",
    "    1 = Win\n",
    "    -1 = Lose\n",
    "    \n",
    "** Shot result: ** \n",
    "    1 = Made\n",
    "    -1 = Missed"
   ]
  },
  {
   "cell_type": "code",
   "execution_count": 25,
   "metadata": {
    "collapsed": true
   },
   "outputs": [],
   "source": [
    "MASTERBBDF['LOCATION'] = MASTERBBDF['LOCATION'].replace('A', 0)\n",
    "MASTERBBDF['LOCATION'] = MASTERBBDF['LOCATION'].replace('H', 1) \n",
    "\n",
    "MASTERBBDF['W'] = MASTERBBDF['W'].replace('W', 1)\n",
    "MASTERBBDF['W'] = MASTERBBDF['W'].replace('L', -1)\n",
    "\n",
    "MASTERBBDF['SHOT_RESULT'] = MASTERBBDF['SHOT_RESULT'].replace('made', 1)\n",
    "MASTERBBDF['SHOT_RESULT'] = MASTERBBDF['SHOT_RESULT'].replace('missed', -1)"
   ]
  },
  {
   "cell_type": "markdown",
   "metadata": {},
   "source": [
    "## 4.5.2 Missing value treatment\n",
    "\n",
    "There are quite a few shot clock values missing\n",
    "\n",
    "\n",
    "### 4.5.2 Model 1:  14 second rule, or a block\n",
    "\n",
    "1st model assumes that some shots were straight away (replace with 24). 14 second rule was applied if more than 24 seconds left to play in the quater.  Other missing values replaced with game clock value values\n",
    "\n",
    "If the shot clock is below 14 seconds, it is recycled to 14 seconds "
   ]
  },
  {
   "cell_type": "code",
   "execution_count": 26,
   "metadata": {
    "collapsed": false
   },
   "outputs": [],
   "source": [
    "MASTERBBDF['SHOT_CLOCK_test1'] = MASTERBBDF['SHOT_CLOCK'] \n",
    "#Blocked\n",
    "MASTERBBDF['SHOT_CLOCK_test1'] = np.where(abs((MASTERBBDF['SHOT_CLOCK_test1'].isnull())&(MASTERBBDF['CLOSE_DEF_DIST'] <=3.28084) & (MASTERBBDF['SHOT_RESULT'] ==-1)& (MASTERBBDF['TOUCH_TIME'] ==0)), 24,MASTERBBDF['SHOT_CLOCK_test1'])\n",
    "#less than 24 seconds left\n",
    "MASTERBBDF['SHOT_CLOCK_test1'] = np.where(abs((MASTERBBDF['SHOT_CLOCK_test1'].isnull())&(MASTERBBDF['GAME_CLOCK'] <='00:24')),MASTERBBDF['seconds'],MASTERBBDF['SHOT_CLOCK_test1'])\n",
    "#14 second rule\n",
    "MASTERBBDF['SHOT_CLOCK_test1'] = MASTERBBDF['SHOT_CLOCK_test1'].fillna(14) \n"
   ]
  },
  {
   "cell_type": "markdown",
   "metadata": {},
   "source": [
    "### 4.5.2  Model 2: Replace all missing values with shot clock median \n",
    "\n",
    "This model replaces missing values with median value if more than 24 seconds left in the game and game clock value if less than 24 seconds left in the game"
   ]
  },
  {
   "cell_type": "code",
   "execution_count": 27,
   "metadata": {
    "collapsed": true
   },
   "outputs": [],
   "source": [
    "MASTERBBDF['SHOT_CLOCK_test2'] = MASTERBBDF['SHOT_CLOCK'] \n",
    "#replace with median\n",
    "MASTERBBDF['SHOT_CLOCK_test2'] = MASTERBBDF['SHOT_CLOCK_test2'].fillna(MASTERBBDF['SHOT_CLOCK_test2'].median()) "
   ]
  },
  {
   "cell_type": "markdown",
   "metadata": {},
   "source": [
    "### 4.5.2 Model 3: Replacing with Touch time values\n",
    "\n",
    "This model will use 24- Touch time value to replace missing values. If Touch time is more tan 24 and less than 0, methods grom th first model will  be applied."
   ]
  },
  {
   "cell_type": "code",
   "execution_count": 28,
   "metadata": {
    "collapsed": false
   },
   "outputs": [
    {
     "data": {
      "text/plain": [
       "24.0"
      ]
     },
     "execution_count": 28,
     "metadata": {},
     "output_type": "execute_result"
    }
   ],
   "source": [
    "#Create a variable that selects the last two digits of game clock\n",
    "MASTERBBDF['SHOT_CLOCK_test3'] = MASTERBBDF['SHOT_CLOCK']\n",
    "#Blocked\n",
    "MASTERBBDF['SHOT_CLOCK_test3'] = np.where(abs((MASTERBBDF['SHOT_CLOCK_test3'].isnull())&(MASTERBBDF['CLOSE_DEF_DIST'] <=3.28084) & (MASTERBBDF['SHOT_RESULT'] ==-1)& (MASTERBBDF['TOUCH_TIME'] ==0)), 24,MASTERBBDF['SHOT_CLOCK_test3'])\n",
    "#less than 24 seconds left\n",
    "MASTERBBDF['SHOT_CLOCK_test3'] = np.where(abs((MASTERBBDF['SHOT_CLOCK_test3'].isnull())&(MASTERBBDF['GAME_CLOCK'] <='00:24')),MASTERBBDF['seconds'],MASTERBBDF['SHOT_CLOCK_test3'])\n",
    "#14 second rule\n",
    "MASTERBBDF['SHOT_CLOCK_test3'] = MASTERBBDF['SHOT_CLOCK_test3'].fillna(14) \n",
    "MASTERBBDF['SHOT_CLOCK_test3'].max()"
   ]
  },
  {
   "cell_type": "markdown",
   "metadata": {},
   "source": [
    "### Model 4: Replacing the median value for each player.\n",
    "\n",
    "Replacing missing values with the median shot clock value for each player."
   ]
  },
  {
   "cell_type": "code",
   "execution_count": 29,
   "metadata": {
    "collapsed": false
   },
   "outputs": [],
   "source": [
    "MASTERBBDF['TOT_GAME_SECODS'] =(((MASTERBBDF['Minutes'])*60)+MASTERBBDF['seconds'])*MASTERBBDF['PERIOD']"
   ]
  },
  {
   "cell_type": "code",
   "execution_count": 30,
   "metadata": {
    "collapsed": false
   },
   "outputs": [
    {
     "data": {
      "text/plain": [
       "18.300000000000001"
      ]
     },
     "execution_count": 30,
     "metadata": {},
     "output_type": "execute_result"
    }
   ],
   "source": [
    "test4 = MASTERBBDF.pivot_table(values = ['SHOT_CLOCK'], index=['Player'], aggfunc='median')\n",
    "test4.reset_index(level=0, inplace=True)\n",
    "test4['SHOT_CLOCK_median'] =test4['SHOT_CLOCK']\n",
    "del test4['SHOT_CLOCK']\n",
    "test4['SHOT_CLOCK_median'].max()"
   ]
  },
  {
   "cell_type": "code",
   "execution_count": 31,
   "metadata": {
    "collapsed": false
   },
   "outputs": [],
   "source": [
    "MASTERBBDF = pd.merge(MASTERBBDF,test4, left_on = 'Player',  right_on = 'Player',how = 'left')\n"
   ]
  },
  {
   "cell_type": "code",
   "execution_count": 32,
   "metadata": {
    "collapsed": false
   },
   "outputs": [
    {
     "data": {
      "text/plain": [
       "SHOT_CLOCK_test4     12.030337\n",
       "Player              568.872659\n",
       "dtype: float64"
      ]
     },
     "execution_count": 32,
     "metadata": {},
     "output_type": "execute_result"
    },
    {
     "data": {
      "image/png": "[encoded data removed]",
      "text/plain": [
       "<matplotlib.figure.Figure at 0x12157b668>"
      ]
     },
     "metadata": {},
     "output_type": "display_data"
    }
   ],
   "source": [
    "MASTERBBDF['SHOT_CLOCK_test4'] = MASTERBBDF['SHOT_CLOCK'] \n",
    "#replace with median\n",
    "#Create a variable that selects the last two digits of game clock\n",
    "#less than 24 seconds left\n",
    "#MASTERBBDF['SHOT_CLOCK_test4'] = np.where(abs((MASTERBBDF['SHOT_CLOCK_test4'].isnull())&(MASTERBBDF['GAME_CLOCK'] <='00:24')),MASTERBBDF['seconds'],MASTERBBDF['SHOT_CLOCK_test4'])\n",
    "#Else -  Median value\n",
    "MASTERBBDF['SHOT_CLOCK_test4'] = np.where(abs(MASTERBBDF['SHOT_CLOCK_test4'].isnull()), MASTERBBDF['SHOT_CLOCK_median'],MASTERBBDF['SHOT_CLOCK_test4'])\n",
    "\n",
    "\n",
    "\n",
    "test5 = MASTERBBDF.pivot_table(values = ['Player'], index=['SHOT_CLOCK_test4'], aggfunc = 'count')\n",
    "test5.reset_index(level=0, inplace=True)\n",
    "\n",
    "\n",
    "plt.figure(1)\n",
    "plt.suptitle('')\n",
    "plt.xlabel('Treated shot clock values')\n",
    "plt.ylabel('frequency')\n",
    "plt.scatter(test5['SHOT_CLOCK_test4'],test5['Player'],c='#ff3399',s=50,alpha=0.2,linewidth='0')\n",
    "test5.mean()\n",
    "#MASTERBBDF['SHOT_CLOCK'].mean()"
   ]
  },
  {
   "cell_type": "code",
   "execution_count": 266,
   "metadata": {
    "collapsed": false
   },
   "outputs": [
    {
     "data": {
      "image/png": "[encoded data removed]",
      "text/plain": [
       "<matplotlib.figure.Figure at 0x123f2a400>"
      ]
     },
     "metadata": {},
     "output_type": "display_data"
    }
   ],
   "source": [
    "##QQplot \n",
    "import scipy.stats as stats\n",
    "a = test5['SHOT_CLOCK_test4']\n",
    "fig = sm.qqplot(a, stats.t, distargs=(4,))\n",
    "plt.show()"
   ]
  },
  {
   "cell_type": "markdown",
   "metadata": {},
   "source": [
    "### Model 5: Using Scikit-learn to replace missing values\n",
    "\n",
    "Replacing missing values with the median shot clock value for each player."
   ]
  },
  {
   "cell_type": "code",
   "execution_count": null,
   "metadata": {
    "collapsed": false
   },
   "outputs": [],
   "source": [
    "import numpy as np\n",
    "from sklearn.preprocessing import Imputer\n",
    "#Game clock in seconds\n",
    "\n",
    "\n",
    "x=MASTERBBDF[['SHOT_CLOCK','SHOT_DIST','SHOT_RESULT','TOT_GAME_SECODS','player_id']]\n",
    "Data = np.array(x)\n",
    "imp = Imputer(missing_values='NaN', strategy='median', axis=0)\n",
    "Data = imp.fit_transform(Data)\n",
    "\n",
    "missing_vals = pd.DataFrame(Data, columns=['SHOT_CLOCK_TEST6','SHOT_DIST','SHOT_RESULT','TOT_GAME_SECODS','player_id'])\n",
    "\n",
    "test6 = missing_vals.pivot_table(values = ['player_id'], index=['SHOT_CLOCK_TEST6'], aggfunc = 'count')\n",
    "test6.reset_index(level=0, inplace=True)\n",
    "\n",
    "plt.figure(1)\n",
    "plt.suptitle('')\n",
    "plt.xlabel('Treated shot clock values')\n",
    "plt.ylabel('frequency')\n",
    "plt.scatter(test6['SHOT_CLOCK_TEST6'],test6['player_id'],c='#ff3399',s=50,alpha=0.2,linewidth='0')\n"
   ]
  },
  {
   "cell_type": "code",
   "execution_count": null,
   "metadata": {
    "collapsed": false
   },
   "outputs": [],
   "source": [
    "\n",
    "MASTERBBDF.count()"
   ]
  },
  {
   "cell_type": "markdown",
   "metadata": {},
   "source": [
    "### 4.5.2 Model visualisation\n",
    "\n",
    "#### Creating test tables\n",
    "\n",
    "\n"
   ]
  },
  {
   "cell_type": "code",
   "execution_count": null,
   "metadata": {
    "collapsed": false
   },
   "outputs": [],
   "source": [
    "\n",
    "test0 = MASTERBBDF.pivot_table(values = ['Player'], index=['SHOT_CLOCK'], aggfunc = 'count')\n",
    "test0.reset_index(level=0, inplace=True)\n",
    "\n",
    "test1 = MASTERBBDF.pivot_table(values = ['Player'], index=['SHOT_CLOCK_test1'], aggfunc = 'count')\n",
    "test1.reset_index(level=0, inplace=True)\n",
    "\n",
    "test2 = MASTERBBDF.pivot_table(values = ['Player'], index=['SHOT_CLOCK_test2'], aggfunc = 'count')\n",
    "test2.reset_index(level=0, inplace=True)\n",
    "\n",
    "test3 = MASTERBBDF.pivot_table(values = ['Player'], index=['SHOT_CLOCK_test3'], aggfunc = 'count')\n",
    "test3.reset_index(level=0, inplace=True)\n"
   ]
  },
  {
   "cell_type": "markdown",
   "metadata": {},
   "source": [
    "#### Visualising"
   ]
  },
  {
   "cell_type": "code",
   "execution_count": null,
   "metadata": {
    "collapsed": false
   },
   "outputs": [],
   "source": [
    "\n",
    "plt.figure(2)\n",
    "plt.suptitle('Shot clock values  - No treatment')\n",
    "plt.xlabel('Values')\n",
    "plt.ylabel('frequency')\n",
    "plt.scatter(test0['SHOT_CLOCK'],test0['Player'],c='#4286f4',s=50,alpha=0.2,linewidth='0')\n",
    "\n",
    "plt.figure(1)\n",
    "plt.suptitle('Model 1')\n",
    "plt.xlabel('Values')\n",
    "plt.ylabel('frequency')\n",
    "plt.scatter(test1['SHOT_CLOCK_test1'],test1['Player'],c='#f4d942',s=50,alpha=0.2,linewidth='0')\n",
    "\n",
    "\n",
    "plt.figure(1)\n",
    "plt.suptitle('')\n",
    "plt.xlabel('Treated shot clock values')\n",
    "plt.ylabel('frequency')\n",
    "plt.scatter(test6['SHOT_CLOCK_TEST6'],test6['player_id'],c='#42f44e',s=50,alpha=0.2,linewidth='0')\n",
    "\n",
    "\n",
    "plt.figure(1)\n",
    "plt.suptitle('Model 2')\n",
    "plt.xlabel('Values')\n",
    "plt.ylabel('frequency')\n",
    "plt.scatter(test2['SHOT_CLOCK_test2'],test2['Player'],c='#f44250',s=50,alpha=0.2,linewidth='0')\n",
    "\n",
    "plt.figure(1)\n",
    "plt.suptitle('Model 3')\n",
    "plt.xlabel('Values')\n",
    "plt.ylabel('frequency')\n",
    "plt.scatter(test3['SHOT_CLOCK_test3'],test3['Player'],c='#f442e8',s=50,alpha=0.2,linewidth='0')\n"
   ]
  },
  {
   "cell_type": "code",
   "execution_count": null,
   "metadata": {
    "collapsed": false
   },
   "outputs": [],
   "source": [
    "\n",
    "plt.figure(1)\n",
    "plt.suptitle('Shot clock values  - No treatment')\n",
    "plt.xlabel('Values')\n",
    "plt.ylabel('frequency')\n",
    "plt.scatter(test0['SHOT_CLOCK'],test0['Player'],c='#f44250',s=50,alpha=0.2,linewidth='0')\n",
    "                  \n",
    "   \n",
    "plt.figure(1)\n",
    "plt.suptitle('')\n",
    "plt.xlabel('Treated shot clock values')\n",
    "plt.ylabel('frequency')\n",
    "plt.scatter(test6['SHOT_CLOCK_TEST6'],test6['player_id'],c='#42b9f4',s=50,alpha=0.2,linewidth='0')\n"
   ]
  },
  {
   "cell_type": "markdown",
   "metadata": {},
   "source": [
    "## 4.5.3 Changing touch time values\n",
    "\n",
    "By creating missing value treatment I have noticed that a few values in touch time variable were either negative or higher tha 24. In his segment I will teplace these with Model 3 shot clock values"
   ]
  },
  {
   "cell_type": "code",
   "execution_count": null,
   "metadata": {
    "collapsed": false
   },
   "outputs": [],
   "source": [
    "MASTERBBDF['TOUCH_TIME'] = np.where(abs(MASTERBBDF['TOUCH_TIME'] <0),MASTERBBDF['SHOT_CLOCK_test4'] ,MASTERBBDF['TOUCH_TIME'])\n",
    "MASTERBBDF['TOUCH_TIME'] = np.where(abs(MASTERBBDF['TOUCH_TIME'] >24),MASTERBBDF['SHOT_CLOCK_test4'] ,MASTERBBDF['TOUCH_TIME'])\n",
    "MASTERBBDF['TOUCH_TIME'].max()"
   ]
  },
  {
   "cell_type": "markdown",
   "metadata": {},
   "source": [
    "## 4.5.4 NBA teams\n",
    "\n",
    "There were some pleyers who played in 2 different teams during the 2015 NBA season. In this section I will assign these players to the team that layer has played for the longest."
   ]
  },
  {
   "cell_type": "code",
   "execution_count": null,
   "metadata": {
    "collapsed": false
   },
   "outputs": [],
   "source": [
    "## Finding players that played in multiple teams over the years\n",
    "multitm = MASTERBBDF[(MASTERBBDF['Tm'] ==\"TOT\")]\n",
    "multitm = multitm[['Tm','Player','Date']]\n",
    "multitm.to_excel('players2team.xls')"
   ]
  },
  {
   "cell_type": "markdown",
   "metadata": {},
   "source": [
    "I have extracted player names and looked at number of games played in each team.  I have decided to sort them into teams that they have spent more time in."
   ]
  },
  {
   "cell_type": "code",
   "execution_count": null,
   "metadata": {
    "collapsed": false
   },
   "outputs": [],
   "source": [
    "MASTERBBDF['Tm'] = np.where(abs((MASTERBBDF['Player']==\"GARY NEAL\")),\"CHO\",MASTERBBDF['Tm'])\n",
    "MASTERBBDF['Tm'] = np.where(abs((MASTERBBDF['Player']==\"KEVIN GARNETT\")),\"BRK\",MASTERBBDF['Tm'])\n",
    "MASTERBBDF['Tm'] = np.where(abs((MASTERBBDF['Player']==\"ENES KANTER\")),\"UTA\",MASTERBBDF['Tm'])\n",
    "MASTERBBDF['Tm'] = np.where(abs((MASTERBBDF['Player']==\"ANDRE MILLER\")),\"WAS\",MASTERBBDF['Tm'])\n",
    "MASTERBBDF['Tm'] = np.where(abs((MASTERBBDF['Player']==\"MARCUS THORNTON\")),\"BOS\",MASTERBBDF['Tm'])\n",
    "MASTERBBDF['Tm'] = np.where(abs((MASTERBBDF['Player']==\"JEFF GREEN\")),\"MEM\",MASTERBBDF['Tm'])\n",
    "MASTERBBDF['Tm'] = np.where(abs((MASTERBBDF['Player']==\"ALONZO GEE\")),\"DEN\",MASTERBBDF['Tm'])\n",
    "MASTERBBDF['Tm'] = np.where(abs((MASTERBBDF['Player']==\"NATE ROBINSON\")),\"DEN\",MASTERBBDF['Tm'])\n",
    "MASTERBBDF['Tm'] = np.where(abs((MASTERBBDF['Player']==\"TIMOFEY MOZGOV\")),\"CLE\",MASTERBBDF['Tm'])\n",
    "MASTERBBDF['Tm'] = np.where(abs((MASTERBBDF['Player']==\"ARRON AFFLALO\")),\"DEN\",MASTERBBDF['Tm'])\n",
    "MASTERBBDF['Tm'] = np.where(abs((MASTERBBDF['Player']==\"GORAN DRAGIC\")),\"PHO\",MASTERBBDF['Tm'])\n",
    "MASTERBBDF['Tm'] = np.where(abs((MASTERBBDF['Player']==\"ISAIAH THOMAS\")),\"PHO\",MASTERBBDF['Tm'])\n",
    "MASTERBBDF['Tm'] = np.where(abs((MASTERBBDF['Player']==\"MICHAEL CARTER-WILLIAMS\")),\"PHI\",MASTERBBDF['Tm'])\n",
    "MASTERBBDF['Tm'] = np.where(abs((MASTERBBDF['Player']==\"K.J. MCDANIELS\")),\"PHI\",MASTERBBDF['Tm'])\n",
    "MASTERBBDF['Tm'] = np.where(abs((MASTERBBDF['Player']==\"BRANDON KNIGHT\")),\"MIL\",MASTERBBDF['Tm'])\n",
    "MASTERBBDF['Tm'] = np.where(abs((MASTERBBDF['Player']==\"AMAR'E STOUDEMIRE\")),\"NYK\",MASTERBBDF['Tm'])\n",
    "MASTERBBDF['Tm'] = np.where(abs((MASTERBBDF['Player']==\"PABLO PRIGIONI\")),\"NYK\",MASTERBBDF['Tm'])\n",
    "MASTERBBDF['Tm'] = np.where(abs((MASTERBBDF['Player']==\"D.J. AUGUSTIN\")),\"DET\",MASTERBBDF['Tm'])\n",
    "MASTERBBDF['Tm'] = np.where(abs((MASTERBBDF['Player']==\"JONAS JEREBKO\")),\"DET\",MASTERBBDF['Tm'])\n",
    "MASTERBBDF['Tm'] = np.where(abs((MASTERBBDF['Player']==\"KYLE SINGLER\")),\"DET\",MASTERBBDF['Tm'])\n",
    "MASTERBBDF['Tm'] = np.where(abs((MASTERBBDF['Player']==\"SHAWNE WILLIAMS\")),\"MIA\",MASTERBBDF['Tm'])\n",
    "MASTERBBDF['Tm'] = np.where(abs((MASTERBBDF['Player']==\"NORRIS COLE\")),\"MIA\",MASTERBBDF['Tm'])\n",
    "MASTERBBDF['Tm'] = np.where(abs((MASTERBBDF['Player']==\"RAMON SESSIONS\")),\"SAC\",MASTERBBDF['Tm'])\n",
    "MASTERBBDF['Tm'] = np.where(abs((MASTERBBDF['Player']==\"REGGIE JACKSON\")),\"OKC\",MASTERBBDF['Tm'])\n",
    "MASTERBBDF['Tm'] = np.where(abs((MASTERBBDF['Player']==\"KENDRICK PERKINS\")),\"OKC\",MASTERBBDF['Tm'])\n",
    "MASTERBBDF['Tm'] = np.where(abs((MASTERBBDF['Player']==\"MO WILLIAMS\")),\"MIN\",MASTERBBDF['Tm'])\n",
    "MASTERBBDF['Tm'] = np.where(abs((MASTERBBDF['Player']==\"THADDEUS YOUNG\")),\"MIN\",MASTERBBDF['Tm'])\n",
    "#Test if all TOT replaced\n",
    "#subset = MASTERBBDF[(MASTERBBDF['Tm']==\"TOT\")]\n",
    "#subset = subset[['Tm','Player','Date']]\n",
    "#subset"
   ]
  },
  {
   "cell_type": "markdown",
   "metadata": {},
   "source": [
    "### 4.5.5 Altering shot distance for 2 - 3 points\n",
    "\n",
    "Acccording to the official NBA rules,  3 point line is at 23 feet and 9 inches.  I have discovered that some 2 point shots in the data hadhigher distance than 23 feet and 9 inches,  similar,  3 point shots had a distance lower than 23 feet and 9 inches.  In this segment I will re - assing all shots under 23 feet and 9 inches as 2 point and  over 23 feet and 9 inches as 3 point. "
   ]
  },
  {
   "cell_type": "code",
   "execution_count": null,
   "metadata": {
    "collapsed": false
   },
   "outputs": [],
   "source": [
    "MASTERBBDF['PTS_TYPE'] = np.where(abs((MASTERBBDF['PTS_TYPE'] ==3)&(MASTERBBDF['SHOT_DIST'] <23.75)), 2,MASTERBBDF['PTS_TYPE'])\n",
    "MASTERBBDF['PTS_TYPE'] = np.where(abs((MASTERBBDF['PTS_TYPE'] ==2)&(MASTERBBDF['SHOT_DIST'] >23.75)), 3,MASTERBBDF['PTS_TYPE'])"
   ]
  },
  {
   "cell_type": "markdown",
   "metadata": {},
   "source": [
    "# 4.6 Derrived variables\n",
    "\n",
    "Note: Visualisation will be done in Tableu, any plots in this section are just test plots."
   ]
  },
  {
   "cell_type": "markdown",
   "metadata": {},
   "source": [
    "## 4.6.1 Net shots made\n"
   ]
  },
  {
   "cell_type": "code",
   "execution_count": null,
   "metadata": {
    "collapsed": false
   },
   "outputs": [],
   "source": [
    "##net shots made. \n",
    "Shots_made_net = MASTERBBDF.pivot_table(values = ['SHOT_RESULT'], index=['Player'], aggfunc = 'sum')\n",
    "Shots_made_net.reset_index(level=0, inplace=True)\n",
    "Shots_made_net = Shots_made_net.sort(['SHOT_RESULT', 'Player'], ascending=[1, 0])\n",
    "#Show top net shots made\n",
    "Shots_made_net_top = Shots_made_net[(Shots_made_net['SHOT_RESULT'])>=0]\n",
    "Shots_made_net_top\n",
    "Shots_made_net_top.plot(['Player'],  style='b',kind = 'bar')"
   ]
  },
  {
   "cell_type": "markdown",
   "metadata": {},
   "source": [
    "## 4.6.2 Net points scored"
   ]
  },
  {
   "cell_type": "code",
   "execution_count": null,
   "metadata": {
    "collapsed": false
   },
   "outputs": [],
   "source": [
    " def points_scored(a,b):\n",
    "        return a*b\n",
    "    \n",
    "points_scored = MASTERBBDF.apply(lambda x: points_scored(x['SHOT_RESULT'],x['PTS_TYPE']), axis=1)\n",
    "MASTERBBDF['points_scored'] =points_scored\n",
    "##net points scored. \n",
    "points_scored = MASTERBBDF.pivot_table(values = ['points_scored'], index=['Player'], aggfunc = 'sum')\n",
    "points_scored.reset_index(level=0, inplace=True)\n",
    "points_scored = points_scored.sort(['points_scored', 'Player'], ascending=[1, 0])\n",
    "points_scored"
   ]
  },
  {
   "cell_type": "markdown",
   "metadata": {},
   "source": [
    "## 4.6.3 Best defender score\n",
    "\n",
    "Creating a score that would help identify the best defender."
   ]
  },
  {
   "cell_type": "code",
   "execution_count": null,
   "metadata": {
    "collapsed": false
   },
   "outputs": [],
   "source": [
    "def defender_scr(a,b):\n",
    "    if a == -1 and b==0: ##0 distance between players means that this COULD be a foul\n",
    "        return -1\n",
    "    if a==-1:\n",
    "        return 1\n",
    "    elif a==1:\n",
    "        return -1\n",
    "    else:\n",
    "        return 0\n",
    "    \n",
    "defender_scr = MASTERBBDF.apply(lambda x: defender_scr(x['SHOT_RESULT'],x['CLOSE_DEF_DIST']), axis=1)\n",
    "MASTERBBDF['defender_scr'] =defender_scr\n",
    "\n",
    "defender_scr = MASTERBBDF.pivot_table(values = ['defender_scr'], index=['CLOSEST_DEFENDER'], aggfunc = 'sum')\n",
    "defender_scr.reset_index(level=0, inplace=True)\n",
    "defender_scr = defender_scr.sort(['defender_scr', 'CLOSEST_DEFENDER'], ascending=[1, 0])\n",
    "defender_scr"
   ]
  },
  {
   "cell_type": "markdown",
   "metadata": {},
   "source": [
    "### 4.6.3.a most blocks \n",
    "\n",
    "Curious to see who had the most blocks!  Block happens when a deffender manages to change the course of the ball without touching the offender. Assuming that the defender is within a close proximity of the offender, we could try and indentify blocks! \n",
    "\n",
    "***Criteria:*** \n",
    "\n",
    "1. Shot must be missed\n",
    "2. defender is within 1 meter distance away from the offender\n",
    "3. must be in the Three Second Area (which is about 15 feet away from the basket)\n",
    "3. Distance cannot be 0 (in that case we can assume that deffensive foul has happened)\n",
    "\n",
    "\n",
    "***Note: ***The distance is recorded in feet.\n",
    "\n",
    "1 metre = 3.28084 feet\n",
    "\n"
   ]
  },
  {
   "cell_type": "code",
   "execution_count": null,
   "metadata": {
    "collapsed": false,
    "scrolled": true
   },
   "outputs": [],
   "source": [
    "def block(a,b):\n",
    "    if a==-1 and (b>0 and b<=3.28084) :\n",
    "        return 1\n",
    "    else:\n",
    "        return 0\n",
    "\n",
    "block = MASTERBBDF.apply(lambda x: block(x['SHOT_RESULT'],x['CLOSE_DEF_DIST']), axis=1)\n",
    "MASTERBBDF['block'] =block\n",
    "\n",
    "block = MASTERBBDF.pivot_table(values = ['block'], index=['CLOSEST_DEFENDER'], aggfunc = 'sum')\n",
    "block.reset_index(level=0, inplace=True)\n",
    "block = block.sort(['block', 'CLOSEST_DEFENDER'], ascending=[1, 0])\n",
    "block"
   ]
  },
  {
   "cell_type": "markdown",
   "metadata": {},
   "source": [
    "## 4.6.4 Investigating shot difficulty. \n",
    "\n",
    "### Looking at shot distance \n",
    "\n",
    "1. Close (up to 15 feet)\n",
    "2. Mid- range (15-23 feet)\n",
    "3. far (23+)\n",
    "\n"
   ]
  },
  {
   "cell_type": "code",
   "execution_count": 37,
   "metadata": {
    "collapsed": false
   },
   "outputs": [
    {
     "data": {
      "text/html": [
       "<div>\n",
       "<table border=\"1\" class=\"dataframe\">\n",
       "  <thead>\n",
       "    <tr style=\"text-align: right;\">\n",
       "      <th></th>\n",
       "      <th>shot_dist_bin</th>\n",
       "      <th>SHOT_RESULT</th>\n",
       "      <th>shots_attempted</th>\n",
       "      <th>percentage_shot</th>\n",
       "    </tr>\n",
       "  </thead>\n",
       "  <tbody>\n",
       "    <tr>\n",
       "      <th>0</th>\n",
       "      <td>a. &lt;5</td>\n",
       "      <td>25086</td>\n",
       "      <td>40854</td>\n",
       "      <td>61.404024</td>\n",
       "    </tr>\n",
       "    <tr>\n",
       "      <th>1</th>\n",
       "      <td>b. 5-10</td>\n",
       "      <td>11242</td>\n",
       "      <td>26035</td>\n",
       "      <td>43.180334</td>\n",
       "    </tr>\n",
       "    <tr>\n",
       "      <th>2</th>\n",
       "      <td>c. 10-15</td>\n",
       "      <td>5116</td>\n",
       "      <td>12569</td>\n",
       "      <td>40.703318</td>\n",
       "    </tr>\n",
       "    <tr>\n",
       "      <th>3</th>\n",
       "      <td>d. 15 - 20</td>\n",
       "      <td>8770</td>\n",
       "      <td>21572</td>\n",
       "      <td>40.654552</td>\n",
       "    </tr>\n",
       "    <tr>\n",
       "      <th>4</th>\n",
       "      <td>e. 20 - 23'9</td>\n",
       "      <td>7998</td>\n",
       "      <td>21013</td>\n",
       "      <td>38.062152</td>\n",
       "    </tr>\n",
       "    <tr>\n",
       "      <th>5</th>\n",
       "      <td>f. 23'9 - 30</td>\n",
       "      <td>10014</td>\n",
       "      <td>29171</td>\n",
       "      <td>34.328614</td>\n",
       "    </tr>\n",
       "    <tr>\n",
       "      <th>6</th>\n",
       "      <td>g. 30+</td>\n",
       "      <td>61</td>\n",
       "      <td>675</td>\n",
       "      <td>9.037037</td>\n",
       "    </tr>\n",
       "  </tbody>\n",
       "</table>\n",
       "</div>"
      ],
      "text/plain": [
       "  shot_dist_bin  SHOT_RESULT  shots_attempted  percentage_shot\n",
       "0         a. <5        25086            40854        61.404024\n",
       "1       b. 5-10        11242            26035        43.180334\n",
       "2      c. 10-15         5116            12569        40.703318\n",
       "3    d. 15 - 20         8770            21572        40.654552\n",
       "4  e. 20 - 23'9         7998            21013        38.062152\n",
       "5  f. 23'9 - 30        10014            29171        34.328614\n",
       "6        g. 30+           61              675         9.037037"
      ]
     },
     "execution_count": 37,
     "metadata": {},
     "output_type": "execute_result"
    }
   ],
   "source": [
    "def shot_dist_bin(a):\n",
    "    if  a<=5:\n",
    "        return 'a. <5'\n",
    "    elif  a>5 and a<= 10:\n",
    "        return 'b. 5-10'\n",
    "    elif  a>10 and a<= 15:\n",
    "        return 'c. 10-15'\n",
    "    elif a >15 and a<=20:\n",
    "        return 'd. 15 - 20'\n",
    "    elif a>20 and a<=23.75 :\n",
    "        return \"e. 20 - 23'9\"\n",
    "    elif a>23.75  and a<=30: ## 23.75 - NBA 3 point line\n",
    "        return \"f. 23'9 - 30\"\n",
    "    elif a>30:\n",
    "        return 'g. 30+'\n",
    "    else:\n",
    "        return \"check\"\n",
    "\n",
    "def shots_attempted(a):\n",
    "    if  a>=-1:\n",
    "        return 1\n",
    "    else:\n",
    "        return 0\n",
    "shot_dist_bin = MASTERBBDF.apply(lambda x: shot_dist_bin(x['SHOT_DIST']), axis=1)\n",
    "MASTERBBDF['shot_dist_bin'] =shot_dist_bin\n",
    "shots_attempted = MASTERBBDF.apply(lambda x: shots_attempted(x['SHOT_RESULT']), axis=1)\n",
    "MASTERBBDF['shots_attempted'] =shots_attempted\n",
    "\n",
    "shot_dist_bin = MASTERBBDF[(MASTERBBDF['SHOT_RESULT']==1)]\n",
    "shot_dist_bin2 = MASTERBBDF[(MASTERBBDF['SHOT_RESULT']==-1)]\n",
    "shot_dist_bin = shot_dist_bin.pivot_table(values = ['SHOT_RESULT'], index=['shot_dist_bin'], aggfunc = 'sum')\n",
    "shot_dist_bin.reset_index(level=0, inplace=True)\n",
    "shot_dist_bin\n",
    "\n",
    "shots_attempted = MASTERBBDF.pivot_table(values = ['shots_attempted'], index=['shot_dist_bin'], aggfunc = 'sum')\n",
    "shots_attempted.reset_index(level=0, inplace=True)\n",
    "shots_attempted\n",
    "\n",
    "\n",
    "shotperc = pd.merge(shot_dist_bin,shots_attempted,left_on ='shot_dist_bin', right_on ='shot_dist_bin')\n",
    "shotperc\n",
    "\n",
    "def percentage_shot(a,b):\n",
    "    return (a/b)*100\n",
    "\n",
    "percentage_shot = shotperc.apply(lambda x: percentage_shot(x['SHOT_RESULT'],x['shots_attempted']), axis=1)\n",
    "shotperc['percentage_shot'] =percentage_shot\n",
    "shotperc\n"
   ]
  },
  {
   "cell_type": "code",
   "execution_count": 201,
   "metadata": {
    "collapsed": false
   },
   "outputs": [
    {
     "name": "stderr",
     "output_type": "stream",
     "text": [
      "/Users/vgulbi/anaconda/lib/python3.5/site-packages/ipykernel/__main__.py:26: SettingWithCopyWarning: \n",
      "A value is trying to be set on a copy of a slice from a DataFrame.\n",
      "Try using .loc[row_indexer,col_indexer] = value instead\n",
      "\n",
      "See the caveats in the documentation: http://pandas.pydata.org/pandas-docs/stable/indexing.html#indexing-view-versus-copy\n",
      "/Users/vgulbi/anaconda/lib/python3.5/site-packages/ipykernel/__main__.py:28: SettingWithCopyWarning: \n",
      "A value is trying to be set on a copy of a slice from a DataFrame.\n",
      "Try using .loc[row_indexer,col_indexer] = value instead\n",
      "\n",
      "See the caveats in the documentation: http://pandas.pydata.org/pandas-docs/stable/indexing.html#indexing-view-versus-copy\n"
     ]
    },
    {
     "data": {
      "text/html": [
       "<div>\n",
       "<table border=\"1\" class=\"dataframe\">\n",
       "  <thead>\n",
       "    <tr style=\"text-align: right;\">\n",
       "      <th></th>\n",
       "      <th>shot_dist_bin</th>\n",
       "      <th>SHOT_RESULT</th>\n",
       "      <th>shots_attempted</th>\n",
       "      <th>percentage_shot</th>\n",
       "    </tr>\n",
       "  </thead>\n",
       "  <tbody>\n",
       "    <tr>\n",
       "      <th>0</th>\n",
       "      <td>a. &lt;5</td>\n",
       "      <td>6478</td>\n",
       "      <td>10266</td>\n",
       "      <td>63.101500</td>\n",
       "    </tr>\n",
       "    <tr>\n",
       "      <th>1</th>\n",
       "      <td>b. 5-10</td>\n",
       "      <td>2351</td>\n",
       "      <td>5514</td>\n",
       "      <td>42.636924</td>\n",
       "    </tr>\n",
       "    <tr>\n",
       "      <th>2</th>\n",
       "      <td>c. 10-15</td>\n",
       "      <td>816</td>\n",
       "      <td>1990</td>\n",
       "      <td>41.005025</td>\n",
       "    </tr>\n",
       "    <tr>\n",
       "      <th>3</th>\n",
       "      <td>d. 15 - 20</td>\n",
       "      <td>1433</td>\n",
       "      <td>3542</td>\n",
       "      <td>40.457369</td>\n",
       "    </tr>\n",
       "    <tr>\n",
       "      <th>4</th>\n",
       "      <td>e. 20 - 23'9</td>\n",
       "      <td>449</td>\n",
       "      <td>1225</td>\n",
       "      <td>36.653061</td>\n",
       "    </tr>\n",
       "    <tr>\n",
       "      <th>5</th>\n",
       "      <td>f. 23'9 - 30</td>\n",
       "      <td>128</td>\n",
       "      <td>357</td>\n",
       "      <td>35.854342</td>\n",
       "    </tr>\n",
       "    <tr>\n",
       "      <th>6</th>\n",
       "      <td>g. 30+</td>\n",
       "      <td>2</td>\n",
       "      <td>16</td>\n",
       "      <td>12.500000</td>\n",
       "    </tr>\n",
       "  </tbody>\n",
       "</table>\n",
       "</div>"
      ],
      "text/plain": [
       "  shot_dist_bin  SHOT_RESULT  shots_attempted  percentage_shot\n",
       "0         a. <5         6478            10266        63.101500\n",
       "1       b. 5-10         2351             5514        42.636924\n",
       "2      c. 10-15          816             1990        41.005025\n",
       "3    d. 15 - 20         1433             3542        40.457369\n",
       "4  e. 20 - 23'9          449             1225        36.653061\n",
       "5  f. 23'9 - 30          128              357        35.854342\n",
       "6        g. 30+            2               16        12.500000"
      ]
     },
     "execution_count": 201,
     "metadata": {},
     "output_type": "execute_result"
    }
   ],
   "source": [
    "shot_dist_CC = MASTERBBDF[(MASTERBBDF['Pos']==\"C\")]\n",
    "def shot_dist_bin(a):\n",
    "    if  a<=5:\n",
    "        return 'a. <5'\n",
    "    elif  a>5 and a<= 10:\n",
    "        return 'b. 5-10'\n",
    "    elif  a>10 and a<= 15:\n",
    "        return 'c. 10-15'\n",
    "    elif a >15 and a<=20:\n",
    "        return 'd. 15 - 20'\n",
    "    elif a>20 and a<=23.75 :\n",
    "        return \"e. 20 - 23'9\"\n",
    "    elif a>23.75  and a<=30: ## 23.75 - NBA 3 point line\n",
    "        return \"f. 23'9 - 30\"\n",
    "    elif a>30:\n",
    "        return 'g. 30+'\n",
    "    else:\n",
    "        return \"check\"\n",
    "\n",
    "def shots_attempted(a):\n",
    "    if  a>=-1:\n",
    "        return 1\n",
    "    else:\n",
    "        return 0\n",
    "shot_dist_bin = shot_dist_CC.apply(lambda x: shot_dist_bin(x['SHOT_DIST']), axis=1)\n",
    "shot_dist_CC['shot_dist_bin'] =shot_dist_bin\n",
    "shots_attempted = shot_dist_CC.apply(lambda x: shots_attempted(x['SHOT_RESULT']), axis=1)\n",
    "shot_dist_CC['shots_attempted'] =shots_attempted\n",
    "\n",
    "shot_dist_bin = shot_dist_CC[(shot_dist_CC['SHOT_RESULT']==1)]\n",
    "shot_dist_bin2 = shot_dist_CC[(shot_dist_CC['SHOT_RESULT']==-1)]\n",
    "shot_dist_bin = shot_dist_bin.pivot_table(values = ['SHOT_RESULT'], index=['shot_dist_bin'], aggfunc = 'sum')\n",
    "shot_dist_bin.reset_index(level=0, inplace=True)\n",
    "shot_dist_bin\n",
    "\n",
    "shots_attempted = shot_dist_CC.pivot_table(values = ['shots_attempted'], index=['shot_dist_bin'], aggfunc = 'sum')\n",
    "shots_attempted.reset_index(level=0, inplace=True)\n",
    "shots_attempted\n",
    "\n",
    "\n",
    "shotperc = pd.merge(shot_dist_bin,shots_attempted,left_on ='shot_dist_bin', right_on ='shot_dist_bin')\n",
    "shotperc\n",
    "\n",
    "def percentage_shot(a,b):\n",
    "    return (a/b)*100\n",
    "\n",
    "percentage_shot = shotperc.apply(lambda x: percentage_shot(x['SHOT_RESULT'],x['shots_attempted']), axis=1)\n",
    "shotperc['percentage_shot'] =percentage_shot\n",
    "shotperc\n"
   ]
  },
  {
   "cell_type": "code",
   "execution_count": 202,
   "metadata": {
    "collapsed": false
   },
   "outputs": [
    {
     "name": "stderr",
     "output_type": "stream",
     "text": [
      "/Users/vgulbi/anaconda/lib/python3.5/site-packages/ipykernel/__main__.py:26: SettingWithCopyWarning: \n",
      "A value is trying to be set on a copy of a slice from a DataFrame.\n",
      "Try using .loc[row_indexer,col_indexer] = value instead\n",
      "\n",
      "See the caveats in the documentation: http://pandas.pydata.org/pandas-docs/stable/indexing.html#indexing-view-versus-copy\n",
      "/Users/vgulbi/anaconda/lib/python3.5/site-packages/ipykernel/__main__.py:28: SettingWithCopyWarning: \n",
      "A value is trying to be set on a copy of a slice from a DataFrame.\n",
      "Try using .loc[row_indexer,col_indexer] = value instead\n",
      "\n",
      "See the caveats in the documentation: http://pandas.pydata.org/pandas-docs/stable/indexing.html#indexing-view-versus-copy\n"
     ]
    },
    {
     "data": {
      "text/html": [
       "<div>\n",
       "<table border=\"1\" class=\"dataframe\">\n",
       "  <thead>\n",
       "    <tr style=\"text-align: right;\">\n",
       "      <th></th>\n",
       "      <th>shot_dist_bin</th>\n",
       "      <th>SHOT_RESULT</th>\n",
       "      <th>shots_attempted</th>\n",
       "      <th>percentage_shot</th>\n",
       "    </tr>\n",
       "  </thead>\n",
       "  <tbody>\n",
       "    <tr>\n",
       "      <th>0</th>\n",
       "      <td>a. &lt;5</td>\n",
       "      <td>3888</td>\n",
       "      <td>6535</td>\n",
       "      <td>59.495027</td>\n",
       "    </tr>\n",
       "    <tr>\n",
       "      <th>1</th>\n",
       "      <td>b. 5-10</td>\n",
       "      <td>1931</td>\n",
       "      <td>4519</td>\n",
       "      <td>42.730693</td>\n",
       "    </tr>\n",
       "    <tr>\n",
       "      <th>2</th>\n",
       "      <td>c. 10-15</td>\n",
       "      <td>1150</td>\n",
       "      <td>2763</td>\n",
       "      <td>41.621426</td>\n",
       "    </tr>\n",
       "    <tr>\n",
       "      <th>3</th>\n",
       "      <td>d. 15 - 20</td>\n",
       "      <td>1891</td>\n",
       "      <td>4660</td>\n",
       "      <td>40.579399</td>\n",
       "    </tr>\n",
       "    <tr>\n",
       "      <th>4</th>\n",
       "      <td>e. 20 - 23'9</td>\n",
       "      <td>2438</td>\n",
       "      <td>6310</td>\n",
       "      <td>38.637084</td>\n",
       "    </tr>\n",
       "    <tr>\n",
       "      <th>5</th>\n",
       "      <td>f. 23'9 - 30</td>\n",
       "      <td>3095</td>\n",
       "      <td>8776</td>\n",
       "      <td>35.266636</td>\n",
       "    </tr>\n",
       "    <tr>\n",
       "      <th>6</th>\n",
       "      <td>g. 30+</td>\n",
       "      <td>12</td>\n",
       "      <td>190</td>\n",
       "      <td>6.315789</td>\n",
       "    </tr>\n",
       "  </tbody>\n",
       "</table>\n",
       "</div>"
      ],
      "text/plain": [
       "  shot_dist_bin  SHOT_RESULT  shots_attempted  percentage_shot\n",
       "0         a. <5         3888             6535        59.495027\n",
       "1       b. 5-10         1931             4519        42.730693\n",
       "2      c. 10-15         1150             2763        41.621426\n",
       "3    d. 15 - 20         1891             4660        40.579399\n",
       "4  e. 20 - 23'9         2438             6310        38.637084\n",
       "5  f. 23'9 - 30         3095             8776        35.266636\n",
       "6        g. 30+           12              190         6.315789"
      ]
     },
     "execution_count": 202,
     "metadata": {},
     "output_type": "execute_result"
    }
   ],
   "source": [
    "shot_dist_SG = MASTERBBDF[(MASTERBBDF['Pos']==\"SG\")]\n",
    "def shot_dist_bin(a):\n",
    "    if  a<=5:\n",
    "        return 'a. <5'\n",
    "    elif  a>5 and a<= 10:\n",
    "        return 'b. 5-10'\n",
    "    elif  a>10 and a<= 15:\n",
    "        return 'c. 10-15'\n",
    "    elif a >15 and a<=20:\n",
    "        return 'd. 15 - 20'\n",
    "    elif a>20 and a<=23.75 :\n",
    "        return \"e. 20 - 23'9\"\n",
    "    elif a>23.75  and a<=30: ## 23.75 - NBA 3 point line\n",
    "        return \"f. 23'9 - 30\"\n",
    "    elif a>30:\n",
    "        return 'g. 30+'\n",
    "    else:\n",
    "        return \"check\"\n",
    "\n",
    "def shots_attempted(a):\n",
    "    if  a>=-1:\n",
    "        return 1\n",
    "    else:\n",
    "        return 0\n",
    "shot_dist_bin = shot_dist_SG.apply(lambda x: shot_dist_bin(x['SHOT_DIST']), axis=1)\n",
    "shot_dist_SG['shot_dist_bin'] =shot_dist_bin\n",
    "shots_attempted = shot_dist_SG.apply(lambda x: shots_attempted(x['SHOT_RESULT']), axis=1)\n",
    "shot_dist_SG['shots_attempted'] =shots_attempted\n",
    "\n",
    "shot_dist_bin = shot_dist_SG[(shot_dist_SG['SHOT_RESULT']==1)]\n",
    "shot_dist_bin2 = shot_dist_SG[(shot_dist_SG['SHOT_RESULT']==-1)]\n",
    "shot_dist_bin = shot_dist_bin.pivot_table(values = ['SHOT_RESULT'], index=['shot_dist_bin'], aggfunc = 'sum')\n",
    "shot_dist_bin.reset_index(level=0, inplace=True)\n",
    "shot_dist_bin\n",
    "\n",
    "shots_attempted = shot_dist_SG.pivot_table(values = ['shots_attempted'], index=['shot_dist_bin'], aggfunc = 'sum')\n",
    "shots_attempted.reset_index(level=0, inplace=True)\n",
    "shots_attempted\n",
    "\n",
    "\n",
    "shotperc = pd.merge(shot_dist_bin,shots_attempted,left_on ='shot_dist_bin', right_on ='shot_dist_bin')\n",
    "shotperc\n",
    "\n",
    "def percentage_shot(a,b):\n",
    "    return (a/b)*100\n",
    "\n",
    "percentage_shot = shotperc.apply(lambda x: percentage_shot(x['SHOT_RESULT'],x['shots_attempted']), axis=1)\n",
    "shotperc['percentage_shot'] =percentage_shot\n",
    "shotperc"
   ]
  },
  {
   "cell_type": "code",
   "execution_count": 206,
   "metadata": {
    "collapsed": false
   },
   "outputs": [
    {
     "name": "stderr",
     "output_type": "stream",
     "text": [
      "/Users/vgulbi/anaconda/lib/python3.5/site-packages/ipykernel/__main__.py:26: SettingWithCopyWarning: \n",
      "A value is trying to be set on a copy of a slice from a DataFrame.\n",
      "Try using .loc[row_indexer,col_indexer] = value instead\n",
      "\n",
      "See the caveats in the documentation: http://pandas.pydata.org/pandas-docs/stable/indexing.html#indexing-view-versus-copy\n",
      "/Users/vgulbi/anaconda/lib/python3.5/site-packages/ipykernel/__main__.py:28: SettingWithCopyWarning: \n",
      "A value is trying to be set on a copy of a slice from a DataFrame.\n",
      "Try using .loc[row_indexer,col_indexer] = value instead\n",
      "\n",
      "See the caveats in the documentation: http://pandas.pydata.org/pandas-docs/stable/indexing.html#indexing-view-versus-copy\n"
     ]
    },
    {
     "data": {
      "text/html": [
       "<div>\n",
       "<table border=\"1\" class=\"dataframe\">\n",
       "  <thead>\n",
       "    <tr style=\"text-align: right;\">\n",
       "      <th></th>\n",
       "      <th>shot_dist_bin</th>\n",
       "      <th>SHOT_RESULT</th>\n",
       "      <th>shots_attempted</th>\n",
       "      <th>percentage_shot</th>\n",
       "    </tr>\n",
       "  </thead>\n",
       "  <tbody>\n",
       "    <tr>\n",
       "      <th>0</th>\n",
       "      <td>a. &lt;5</td>\n",
       "      <td>716</td>\n",
       "      <td>1203</td>\n",
       "      <td>59.517872</td>\n",
       "    </tr>\n",
       "    <tr>\n",
       "      <th>1</th>\n",
       "      <td>b. 5-10</td>\n",
       "      <td>336</td>\n",
       "      <td>764</td>\n",
       "      <td>43.979058</td>\n",
       "    </tr>\n",
       "    <tr>\n",
       "      <th>2</th>\n",
       "      <td>c. 10-15</td>\n",
       "      <td>60</td>\n",
       "      <td>171</td>\n",
       "      <td>35.087719</td>\n",
       "    </tr>\n",
       "    <tr>\n",
       "      <th>3</th>\n",
       "      <td>d. 15 - 20</td>\n",
       "      <td>99</td>\n",
       "      <td>248</td>\n",
       "      <td>39.919355</td>\n",
       "    </tr>\n",
       "    <tr>\n",
       "      <th>4</th>\n",
       "      <td>e. 20 - 23'9</td>\n",
       "      <td>261</td>\n",
       "      <td>689</td>\n",
       "      <td>37.880987</td>\n",
       "    </tr>\n",
       "    <tr>\n",
       "      <th>5</th>\n",
       "      <td>f. 23'9 - 30</td>\n",
       "      <td>410</td>\n",
       "      <td>1224</td>\n",
       "      <td>33.496732</td>\n",
       "    </tr>\n",
       "    <tr>\n",
       "      <th>6</th>\n",
       "      <td>g. 30+</td>\n",
       "      <td>1</td>\n",
       "      <td>13</td>\n",
       "      <td>7.692308</td>\n",
       "    </tr>\n",
       "  </tbody>\n",
       "</table>\n",
       "</div>"
      ],
      "text/plain": [
       "  shot_dist_bin  SHOT_RESULT  shots_attempted  percentage_shot\n",
       "0         a. <5          716             1203        59.517872\n",
       "1       b. 5-10          336              764        43.979058\n",
       "2      c. 10-15           60              171        35.087719\n",
       "3    d. 15 - 20           99              248        39.919355\n",
       "4  e. 20 - 23'9          261              689        37.880987\n",
       "5  f. 23'9 - 30          410             1224        33.496732\n",
       "6        g. 30+            1               13         7.692308"
      ]
     },
     "execution_count": 206,
     "metadata": {},
     "output_type": "execute_result"
    }
   ],
   "source": [
    "shot_dist_SG = MASTERBBDF[(MASTERBBDF['Tm']==\"HOU\")]\n",
    "def shot_dist_bin(a):\n",
    "    if  a<=5:\n",
    "        return 'a. <5'\n",
    "    elif  a>5 and a<= 10:\n",
    "        return 'b. 5-10'\n",
    "    elif  a>10 and a<= 15:\n",
    "        return 'c. 10-15'\n",
    "    elif a >15 and a<=20:\n",
    "        return 'd. 15 - 20'\n",
    "    elif a>20 and a<=23.75 :\n",
    "        return \"e. 20 - 23'9\"\n",
    "    elif a>23.75  and a<=30: ## 23.75 - NBA 3 point line\n",
    "        return \"f. 23'9 - 30\"\n",
    "    elif a>30:\n",
    "        return 'g. 30+'\n",
    "    else:\n",
    "        return \"check\"\n",
    "\n",
    "def shots_attempted(a):\n",
    "    if  a>=-1:\n",
    "        return 1\n",
    "    else:\n",
    "        return 0\n",
    "shot_dist_bin = shot_dist_SG.apply(lambda x: shot_dist_bin(x['SHOT_DIST']), axis=1)\n",
    "shot_dist_SG['shot_dist_bin'] =shot_dist_bin\n",
    "shots_attempted = shot_dist_SG.apply(lambda x: shots_attempted(x['SHOT_RESULT']), axis=1)\n",
    "shot_dist_SG['shots_attempted'] =shots_attempted\n",
    "\n",
    "shot_dist_bin = shot_dist_SG[(shot_dist_SG['SHOT_RESULT']==1)]\n",
    "shot_dist_bin2 = shot_dist_SG[(shot_dist_SG['SHOT_RESULT']==-1)]\n",
    "shot_dist_bin = shot_dist_bin.pivot_table(values = ['SHOT_RESULT'], index=['shot_dist_bin'], aggfunc = 'sum')\n",
    "shot_dist_bin.reset_index(level=0, inplace=True)\n",
    "shot_dist_bin\n",
    "\n",
    "shots_attempted = shot_dist_SG.pivot_table(values = ['shots_attempted'], index=['shot_dist_bin'], aggfunc = 'sum')\n",
    "shots_attempted.reset_index(level=0, inplace=True)\n",
    "shots_attempted\n",
    "\n",
    "\n",
    "shotperc = pd.merge(shot_dist_bin,shots_attempted,left_on ='shot_dist_bin', right_on ='shot_dist_bin')\n",
    "shotperc\n",
    "\n",
    "def percentage_shot(a,b):\n",
    "    return (a/b)*100\n",
    "\n",
    "percentage_shot = shotperc.apply(lambda x: percentage_shot(x['SHOT_RESULT'],x['shots_attempted']), axis=1)\n",
    "shotperc['percentage_shot'] =percentage_shot\n",
    "shotperc"
   ]
  },
  {
   "cell_type": "code",
   "execution_count": 55,
   "metadata": {
    "collapsed": false
   },
   "outputs": [
    {
     "name": "stdout",
     "output_type": "stream",
     "text": [
      "Correlation Pearson:  -0.589068853623 5.90301706706e-33\n"
     ]
    }
   ],
   "source": [
    "##Correlation -  All\n",
    "\n",
    "Distance_vs_pernetage = MASTERBBDF[((MASTERBBDF['SHOT_RESULT']==1) )]\n",
    "Distance_vs_pernetage = Distance_vs_pernetage.pivot_table(values = ['SHOT_RESULT'], index=['SHOT_DIST'], aggfunc = 'sum')\n",
    "Distance_vs_pernetage.reset_index(level=0, inplace=True)\n",
    "Distance_vs_pernetage\n",
    "\n",
    "\n",
    "shots_attempted = MASTERBBDF.pivot_table(values = ['shots_attempted'], index=['SHOT_DIST'], aggfunc = 'sum')\n",
    "shots_attempted.reset_index(level=0, inplace=True)\n",
    "shots_attempted\n",
    "\n",
    "\n",
    "Dist_perc = pd.merge(Distance_vs_pernetage,shots_attempted,left_on ='SHOT_DIST', right_on ='SHOT_DIST')\n",
    "Dist_perc\n",
    "\n",
    "def percentage_shot(a,b):\n",
    "    return (a/b)*100\n",
    "\n",
    "percentage_shot = Dist_perc.apply(lambda x: percentage_shot(x['SHOT_RESULT'],x['shots_attempted']), axis=1)\n",
    "Dist_perc['percentage_shot'] =percentage_shot\n",
    "Dist_perc\n",
    "\n",
    "Dist = Dist_perc.as_matrix([\"SHOT_RESULT\", \"SHOT_DIST\"])\n",
    "\n",
    "\n",
    "\n",
    "arr1 = Dist[:,0] # Shot distance\n",
    "arr2 = Dist[:,1] # Score percentage\n",
    "\n",
    "corrPearson, pVal1 = stats.pearsonr(arr1, arr2)\n",
    "print (\"Correlation Pearson: \", corrPearson, pVal1)\n"
   ]
  },
  {
   "cell_type": "code",
   "execution_count": 59,
   "metadata": {
    "collapsed": false
   },
   "outputs": [
    {
     "name": "stdout",
     "output_type": "stream",
     "text": [
      "Correlation Pearson:  -0.729623756914 1.22974110872e-45\n"
     ]
    }
   ],
   "source": [
    "##Correlation -  Centre\n",
    "\n",
    "Distance_vs_pernetage = MASTERBBDF[((MASTERBBDF['SHOT_RESULT']==1) &(MASTERBBDF['Pos']==\"C\"))]\n",
    "attempt_c = MASTERBBDF[((MASTERBBDF['Pos']==\"C\"))]\n",
    "Distance_vs_pernetage = Distance_vs_pernetage.pivot_table(values = ['SHOT_RESULT'], index=['SHOT_DIST'], aggfunc = 'sum')\n",
    "Distance_vs_pernetage.reset_index(level=0, inplace=True)\n",
    "Distance_vs_pernetage\n",
    "\n",
    "\n",
    "shots_attempted = attempt_c.pivot_table(values = ['shots_attempted'], index=['SHOT_DIST'], aggfunc = 'sum')\n",
    "shots_attempted.reset_index(level=0, inplace=True)\n",
    "shots_attempted\n",
    "\n",
    "\n",
    "Dist_perc = pd.merge(Distance_vs_pernetage,shots_attempted,left_on ='SHOT_DIST', right_on ='SHOT_DIST')\n",
    "Dist_perc\n",
    "\n",
    "def percentage_shot(a,b):\n",
    "    return (a/b)*100\n",
    "\n",
    "percentage_shot = Dist_perc.apply(lambda x: percentage_shot(x['SHOT_RESULT'],x['shots_attempted']), axis=1)\n",
    "Dist_perc['percentage_shot'] =percentage_shot\n",
    "Dist_perc\n",
    "\n",
    "Dist = Dist_perc.as_matrix([\"SHOT_RESULT\", \"SHOT_DIST\"])\n",
    "\n",
    "\n",
    "\n",
    "arr1 = Dist[:,0] # Shot distance\n",
    "arr2 = Dist[:,1] # Score percentage\n",
    "\n",
    "corrPearson, pVal1 = stats.pearsonr(arr1, arr2)\n",
    "print (\"Correlation Pearson: \", corrPearson, pVal1)\n"
   ]
  },
  {
   "cell_type": "code",
   "execution_count": 60,
   "metadata": {
    "collapsed": false
   },
   "outputs": [
    {
     "name": "stdout",
     "output_type": "stream",
     "text": [
      "Correlation Pearson:  -0.179078917696 0.00160173561896\n"
     ]
    }
   ],
   "source": [
    "##Correlation -  SG\n",
    "\n",
    "Distance_vs_pernetage = MASTERBBDF[((MASTERBBDF['SHOT_RESULT']==1) &(MASTERBBDF['Pos']==\"SG\"))]\n",
    "attempt_c = MASTERBBDF[((MASTERBBDF['Pos']==\"SG\"))]\n",
    "Distance_vs_pernetage = Distance_vs_pernetage.pivot_table(values = ['SHOT_RESULT'], index=['SHOT_DIST'], aggfunc = 'sum')\n",
    "Distance_vs_pernetage.reset_index(level=0, inplace=True)\n",
    "Distance_vs_pernetage\n",
    "\n",
    "\n",
    "shots_attempted = attempt_c.pivot_table(values = ['shots_attempted'], index=['SHOT_DIST'], aggfunc = 'sum')\n",
    "shots_attempted.reset_index(level=0, inplace=True)\n",
    "shots_attempted\n",
    "\n",
    "\n",
    "Dist_perc = pd.merge(Distance_vs_pernetage,shots_attempted,left_on ='SHOT_DIST', right_on ='SHOT_DIST')\n",
    "Dist_perc\n",
    "\n",
    "def percentage_shot(a,b):\n",
    "    return (a/b)*100\n",
    "\n",
    "percentage_shot = Dist_perc.apply(lambda x: percentage_shot(x['SHOT_RESULT'],x['shots_attempted']), axis=1)\n",
    "Dist_perc['percentage_shot'] =percentage_shot\n",
    "Dist_perc\n",
    "\n",
    "Dist = Dist_perc.as_matrix([\"SHOT_RESULT\", \"SHOT_DIST\"])\n",
    "\n",
    "\n",
    "\n",
    "arr1 = Dist[:,0] # Shot distance\n",
    "arr2 = Dist[:,1] # Score percentage\n",
    "\n",
    "corrPearson, pVal1 = stats.pearsonr(arr1, arr2)\n",
    "print (\"Correlation Pearson: \", corrPearson, pVal1)"
   ]
  },
  {
   "cell_type": "code",
   "execution_count": null,
   "metadata": {
    "collapsed": false
   },
   "outputs": [],
   "source": [
    "\n",
    "shot_dist_bin = MASTERBBDF[((MASTERBBDF['SHOT_RESULT']==1) &(MASTERBBDF['W']==1))]\n",
    "shot_dist_bin2 = MASTERBBDF[(MASTERBBDF['W']==1)]\n",
    "shot_dist_bin = shot_dist_bin.pivot_table(values = ['SHOT_RESULT'], index=['shot_dist_bin'], aggfunc = 'sum')\n",
    "shot_dist_bin.reset_index(level=0, inplace=True)\n",
    "shot_dist_bin\n",
    "\n",
    "shots_attempted = shot_dist_bin2.pivot_table(values = ['shots_attempted'], index=['shot_dist_bin'], aggfunc = 'sum')\n",
    "shots_attempted.reset_index(level=0, inplace=True)\n",
    "shots_attempted\n",
    "\n",
    "\n",
    "shotperc = pd.merge(shot_dist_bin,shots_attempted,left_on ='shot_dist_bin', right_on ='shot_dist_bin')\n",
    "shotperc\n",
    "\n",
    "def percentage_shot(a,b):\n",
    "    return (a/b)*100\n",
    "\n",
    "percentage_shot = shotperc.apply(lambda x: percentage_shot(x['SHOT_RESULT'],x['shots_attempted']), axis=1)\n",
    "shotperc['percentage_shot'] =percentage_shot\n",
    "shotperc"
   ]
  },
  {
   "cell_type": "code",
   "execution_count": null,
   "metadata": {
    "collapsed": false
   },
   "outputs": [],
   "source": [
    "\n",
    "shot_dist_bin = MASTERBBDF[((MASTERBBDF['SHOT_RESULT']==1) &(MASTERBBDF['Tm']=='HOU'))]\n",
    "shot_dist_bin2 = MASTERBBDF[(MASTERBBDF['Tm']=='HOU')]\n",
    "shot_dist_bin = shot_dist_bin.pivot_table(values = ['SHOT_RESULT'], index=['shot_dist_bin'], aggfunc = 'sum')\n",
    "shot_dist_bin.reset_index(level=0, inplace=True)\n",
    "shot_dist_bin\n",
    "\n",
    "shots_attempted = shot_dist_bin2.pivot_table(values = ['shots_attempted'], index=['shot_dist_bin'], aggfunc = 'sum')\n",
    "shots_attempted.reset_index(level=0, inplace=True)\n",
    "shots_attempted\n",
    "\n",
    "\n",
    "shotperc = pd.merge(shot_dist_bin,shots_attempted,left_on ='shot_dist_bin', right_on ='shot_dist_bin')\n",
    "shotperc\n",
    "\n",
    "def percentage_shot(a,b):\n",
    "    return (a/b)*100\n",
    "\n",
    "percentage_shot = shotperc.apply(lambda x: percentage_shot(x['SHOT_RESULT'],x['shots_attempted']), axis=1)\n",
    "shotperc['percentage_shot'] =percentage_shot\n",
    "shotperc"
   ]
  },
  {
   "cell_type": "code",
   "execution_count": null,
   "metadata": {
    "collapsed": false
   },
   "outputs": [],
   "source": [
    "\n",
    "shot_dist_bin = MASTERBBDF[((MASTERBBDF['SHOT_RESULT']==1) &(MASTERBBDF['Tm']=='TOR'))]\n",
    "shot_dist_bin2 = MASTERBBDF[(MASTERBBDF['Tm']=='TOR')]\n",
    "shot_dist_bin = shot_dist_bin.pivot_table(values = ['SHOT_RESULT'], index=['shot_dist_bin'], aggfunc = 'sum')\n",
    "shot_dist_bin.reset_index(level=0, inplace=True)\n",
    "shot_dist_bin\n",
    "\n",
    "shots_attempted = shot_dist_bin2.pivot_table(values = ['shots_attempted'], index=['shot_dist_bin'], aggfunc = 'sum')\n",
    "shots_attempted.reset_index(level=0, inplace=True)\n",
    "shots_attempted\n",
    "\n",
    "\n",
    "shotperc = pd.merge(shot_dist_bin,shots_attempted,left_on ='shot_dist_bin', right_on ='shot_dist_bin')\n",
    "shotperc\n",
    "\n",
    "def percentage_shot(a,b):\n",
    "    return (a/b)*100\n",
    "\n",
    "percentage_shot = shotperc.apply(lambda x: percentage_shot(x['SHOT_RESULT'],x['shots_attempted']), axis=1)\n",
    "shotperc['percentage_shot'] =percentage_shot\n",
    "shotperc"
   ]
  },
  {
   "cell_type": "code",
   "execution_count": null,
   "metadata": {
    "collapsed": false
   },
   "outputs": [],
   "source": [
    "\n",
    "shot_dist_bin = MASTERBBDF[((MASTERBBDF['SHOT_RESULT']==1) &(MASTERBBDF['Pos']=='PG'))]\n",
    "shot_dist_bin2 = MASTERBBDF[(MASTERBBDF['Pos']=='PG')]\n",
    "shot_dist_bin = shot_dist_bin.pivot_table(values = ['SHOT_RESULT'], index=['shot_dist_bin'], aggfunc = 'sum')\n",
    "shot_dist_bin.reset_index(level=0, inplace=True)\n",
    "shot_dist_bin\n",
    "\n",
    "shots_attempted = shot_dist_bin2.pivot_table(values = ['shots_attempted'], index=['shot_dist_bin'], aggfunc = 'sum')\n",
    "shots_attempted.reset_index(level=0, inplace=True)\n",
    "shots_attempted\n",
    "\n",
    "\n",
    "shotperc = pd.merge(shot_dist_bin,shots_attempted,left_on ='shot_dist_bin', right_on ='shot_dist_bin')\n",
    "shotperc\n",
    "\n",
    "def percentage_shot(a,b):\n",
    "    return (a/b)*100\n",
    "\n",
    "percentage_shot = shotperc.apply(lambda x: percentage_shot(x['SHOT_RESULT'],x['shots_attempted']), axis=1)\n",
    "shotperc['percentage_shot'] =percentage_shot\n",
    "shotperc"
   ]
  },
  {
   "cell_type": "code",
   "execution_count": 131,
   "metadata": {
    "collapsed": false
   },
   "outputs": [],
   "source": [
    "import statsmodels.api as sm\n",
    "MASTERBBDF['SHOT_RESULT2'] = MASTERBBDF['SHOT_RESULT'].replace(1, 1)\n",
    "MASTERBBDF['SHOT_RESULT2'] = MASTERBBDF['SHOT_RESULT'].replace(-1, 0)\n",
    "#cols_to_keep = ['SHOT_RESULT2','SHOT_DIST',\"SHOT_CLOCK_test4\", \"Age\"]\n",
    "cols_to_keep = ['SHOT_RESULT2','SHOT_DIST']\n",
    "data = MASTERBBDF[cols_to_keep]\n",
    "data = data.as_matrix()\n",
    "\n",
    "arr1 = data[:,0]\n",
    "arr2 =data[:,1]"
   ]
  },
  {
   "cell_type": "code",
   "execution_count": 143,
   "metadata": {
    "collapsed": false
   },
   "outputs": [
    {
     "ename": "ValueError",
     "evalue": "not enough values to unpack (expected 6, got 5)",
     "output_type": "error",
     "traceback": [
      "\u001b[0;31m---------------------------------------------------------------------------\u001b[0m",
      "\u001b[0;31mValueError\u001b[0m                                Traceback (most recent call last)",
      "\u001b[0;32m<ipython-input-143-8a5b0722b13c>\u001b[0m in \u001b[0;36m<module>\u001b[0;34m()\u001b[0m\n\u001b[0;32m----> 1\u001b[0;31m \u001b[0mslope\u001b[0m\u001b[0;34m,\u001b[0m \u001b[0mconstance\u001b[0m\u001b[0;34m,\u001b[0m \u001b[0mintercept\u001b[0m\u001b[0;34m,\u001b[0m \u001b[0mr_value\u001b[0m\u001b[0;34m,\u001b[0m \u001b[0mp_value\u001b[0m\u001b[0;34m,\u001b[0m \u001b[0mstd_err\u001b[0m \u001b[0;34m=\u001b[0m \u001b[0mstats\u001b[0m\u001b[0;34m.\u001b[0m\u001b[0mlinregress\u001b[0m\u001b[0;34m(\u001b[0m\u001b[0marr1\u001b[0m\u001b[0;34m,\u001b[0m \u001b[0marr2\u001b[0m\u001b[0;34m)\u001b[0m\u001b[0;34m\u001b[0m\u001b[0m\n\u001b[0m\u001b[1;32m      2\u001b[0m \u001b[0;34m\u001b[0m\u001b[0m\n\u001b[1;32m      3\u001b[0m \u001b[0mprint\u001b[0m \u001b[0;34m(\u001b[0m\u001b[0;34m\"Slope: \"\u001b[0m\u001b[0;34m,\u001b[0m \u001b[0mslope\u001b[0m\u001b[0;34m)\u001b[0m\u001b[0;34m\u001b[0m\u001b[0m\n\u001b[1;32m      4\u001b[0m \u001b[0mprint\u001b[0m \u001b[0;34m(\u001b[0m\u001b[0;34m\"Constance: \"\u001b[0m\u001b[0;34m,\u001b[0m \u001b[0mcontance\u001b[0m\u001b[0;34m)\u001b[0m\u001b[0;34m\u001b[0m\u001b[0m\n\u001b[1;32m      5\u001b[0m \u001b[0mprint\u001b[0m \u001b[0;34m(\u001b[0m\u001b[0;34m\"Intercept: \"\u001b[0m\u001b[0;34m,\u001b[0m \u001b[0mintercept\u001b[0m\u001b[0;34m)\u001b[0m\u001b[0;34m\u001b[0m\u001b[0m\n",
      "\u001b[0;31mValueError\u001b[0m: not enough values to unpack (expected 6, got 5)"
     ]
    }
   ],
   "source": []
  },
  {
   "cell_type": "code",
   "execution_count": 139,
   "metadata": {
    "collapsed": false
   },
   "outputs": [
    {
     "name": "stdout",
     "output_type": "stream",
     "text": [
      "Slope:  nan\n",
      "Intercept:  nan\n",
      "p_value:  nan\n",
      "std_err:  nan\n"
     ]
    },
    {
     "data": {
      "text/plain": [
       "[<matplotlib.lines.Line2D at 0x121dc3940>]"
      ]
     },
     "execution_count": 139,
     "metadata": {},
     "output_type": "execute_result"
    },
    {
     "data": {
      "image/png": "[encoded data removed]",
      "text/plain": [
       "<matplotlib.figure.Figure at 0x12e1f6128>"
      ]
     },
     "metadata": {},
     "output_type": "display_data"
    }
   ],
   "source": [
    "import statsmodels.api as sm\n",
    "MASTERBBDF['SHOT_RESULT2'] = MASTERBBDF['SHOT_RESULT'].replace(1, 1)\n",
    "MASTERBBDF['SHOT_RESULT2'] = MASTERBBDF['SHOT_RESULT'].replace(-1, 0)\n",
    "#cols_to_keep = ['SHOT_RESULT2','SHOT_DIST',\"SHOT_CLOCK_test4\", \"Age\"]\n",
    "cols_to_keep = ['SHOT_RESULT2','SHOT_CLOCK']\n",
    "data = MASTERBBDF[cols_to_keep]\n",
    "data = data.as_matrix()\n",
    "\n",
    "arr1 = data[:,0]\n",
    "arr2 =data[:,1]\n",
    "\n",
    "slope, intercept, r_value, p_value, std_err = stats.linregress(arr1, arr2)\n",
    "\n",
    "print (\"Slope: \", slope)\n",
    "print (\"Intercept: \", intercept)\n",
    "print (\"p_value: \", p_value)\n",
    "print (\"std_err: \", std_err)\n",
    "\n",
    "# It is always a good idea to visualise the model together with the data \n",
    "# we can use the polyval function to evaluate our model over the whole set of data points\n",
    "# What this does is to simply run y = m * x + b function for all our points \n",
    "evaluatedLine = np.polyval([slope, intercept], arr1)\n",
    "plt.rcParams['agg.path.chunksize'] = 10000\n",
    "# let's see a black line overlaid on the data\n",
    "plt.plot(arr1, evaluatedLine, 'k-')"
   ]
  },
  {
   "cell_type": "code",
   "execution_count": 137,
   "metadata": {
    "collapsed": false
   },
   "outputs": [
    {
     "name": "stderr",
     "output_type": "stream",
     "text": [
      "/Users/vgulbi/anaconda/lib/python3.5/site-packages/ipykernel/__main__.py:3: SettingWithCopyWarning: \n",
      "A value is trying to be set on a copy of a slice from a DataFrame.\n",
      "Try using .loc[row_indexer,col_indexer] = value instead\n",
      "\n",
      "See the caveats in the documentation: http://pandas.pydata.org/pandas-docs/stable/indexing.html#indexing-view-versus-copy\n",
      "  app.launch_new_instance()\n"
     ]
    },
    {
     "name": "stdout",
     "output_type": "stream",
     "text": [
      "Slope:  -2.88844513974\n",
      "Intercept:  17.1403090759\n",
      "p_value:  1.30010423045e-200\n",
      "std_err:  0.0949345661426\n"
     ]
    },
    {
     "name": "stderr",
     "output_type": "stream",
     "text": [
      "/Users/vgulbi/anaconda/lib/python3.5/site-packages/ipykernel/__main__.py:4: SettingWithCopyWarning: \n",
      "A value is trying to be set on a copy of a slice from a DataFrame.\n",
      "Try using .loc[row_indexer,col_indexer] = value instead\n",
      "\n",
      "See the caveats in the documentation: http://pandas.pydata.org/pandas-docs/stable/indexing.html#indexing-view-versus-copy\n"
     ]
    },
    {
     "data": {
      "text/plain": [
       "[<matplotlib.lines.Line2D at 0x12e21fcc0>]"
      ]
     },
     "execution_count": 137,
     "metadata": {},
     "output_type": "execute_result"
    },
    {
     "data": {
      "image/png": "[encoded data removed]",
      "text/plain": [
       "<matplotlib.figure.Figure at 0x14204a940>"
      ]
     },
     "metadata": {},
     "output_type": "display_data"
    }
   ],
   "source": [
    "attempt_c = MASTERBBDF[((MASTERBBDF['Pos']==\"SG\"))]\n",
    "import statsmodels.api as sm\n",
    "attempt_c['SHOT_RESULT2'] = attempt_c['SHOT_RESULT'].replace(1, 1)\n",
    "attempt_c['SHOT_RESULT2'] = attempt_c['SHOT_RESULT'].replace(-1, 0)\n",
    "#cols_to_keep = ['SHOT_RESULT2','SHOT_DIST',\"SHOT_CLOCK_test4\", \"Age\"]\n",
    "cols_to_keep = ['SHOT_RESULT2','SHOT_DIST']\n",
    "data = attempt_c[cols_to_keep]\n",
    "data = data.as_matrix()\n",
    "\n",
    "arr1 = data[:,0]\n",
    "arr2 =data[:,1]\n",
    "\n",
    "slope, intercept, r_value, p_value, std_err = stats.linregress(arr1, arr2)\n",
    "\n",
    "print (\"Slope: \", slope)\n",
    "print (\"Intercept: \", intercept)\n",
    "print (\"p_value: \", p_value)\n",
    "print (\"std_err: \", std_err)\n",
    "\n",
    "# It is always a good idea to visualise the model together with the data \n",
    "# we can use the polyval function to evaluate our model over the whole set of data points\n",
    "# What this does is to simply run y = m * x + b function for all our points \n",
    "evaluatedLine = np.polyval([slope, intercept], arr1)\n",
    "plt.rcParams['agg.path.chunksize'] = 10000\n",
    "# let's see a black line overlaid on the data\n",
    "plt.plot(arr1, evaluatedLine, 'k-')"
   ]
  },
  {
   "cell_type": "code",
   "execution_count": 138,
   "metadata": {
    "collapsed": false
   },
   "outputs": [
    {
     "name": "stdout",
     "output_type": "stream",
     "text": [
      "Slope:  -2.59622555295\n",
      "Intercept:  9.64975562072\n",
      "p_value:  4.13380438751e-190\n",
      "std_err:  0.0874451066391\n"
     ]
    },
    {
     "name": "stderr",
     "output_type": "stream",
     "text": [
      "/Users/vgulbi/anaconda/lib/python3.5/site-packages/ipykernel/__main__.py:3: SettingWithCopyWarning: \n",
      "A value is trying to be set on a copy of a slice from a DataFrame.\n",
      "Try using .loc[row_indexer,col_indexer] = value instead\n",
      "\n",
      "See the caveats in the documentation: http://pandas.pydata.org/pandas-docs/stable/indexing.html#indexing-view-versus-copy\n",
      "  app.launch_new_instance()\n",
      "/Users/vgulbi/anaconda/lib/python3.5/site-packages/ipykernel/__main__.py:4: SettingWithCopyWarning: \n",
      "A value is trying to be set on a copy of a slice from a DataFrame.\n",
      "Try using .loc[row_indexer,col_indexer] = value instead\n",
      "\n",
      "See the caveats in the documentation: http://pandas.pydata.org/pandas-docs/stable/indexing.html#indexing-view-versus-copy\n"
     ]
    },
    {
     "data": {
      "text/plain": [
       "[<matplotlib.lines.Line2D at 0x12ce16710>]"
      ]
     },
     "execution_count": 138,
     "metadata": {},
     "output_type": "execute_result"
    },
    {
     "data": {
      "image/png": "[encoded data removed]",
      "text/plain": [
       "<matplotlib.figure.Figure at 0x12e20ba58>"
      ]
     },
     "metadata": {},
     "output_type": "display_data"
    }
   ],
   "source": [
    "attempt_c = MASTERBBDF[((MASTERBBDF['Pos']==\"C\"))]\n",
    "import statsmodels.api as sm\n",
    "attempt_c['SHOT_RESULT2'] = attempt_c['SHOT_RESULT'].replace(1, 1)\n",
    "attempt_c['SHOT_RESULT2'] = attempt_c['SHOT_RESULT'].replace(-1, 0)\n",
    "#cols_to_keep = ['SHOT_RESULT2','SHOT_DIST',\"SHOT_CLOCK_test4\", \"Age\"]\n",
    "cols_to_keep = ['SHOT_RESULT2','SHOT_DIST']\n",
    "data = attempt_c[cols_to_keep]\n",
    "data = data.as_matrix()\n",
    "\n",
    "arr1 = data[:,0]\n",
    "arr2 =data[:,1]\n",
    "\n",
    "slope, intercept, r_value, p_value, std_err = stats.linregress(arr1, arr2)\n",
    "\n",
    "print (\"Slope: \", slope)\n",
    "print (\"Intercept: \", intercept)\n",
    "print (\"p_value: \", p_value)\n",
    "print (\"std_err: \", std_err)\n",
    "\n",
    "# It is always a good idea to visualise the model together with the data \n",
    "# we can use the polyval function to evaluate our model over the whole set of data points\n",
    "# What this does is to simply run y = m * x + b function for all our points \n",
    "evaluatedLine = np.polyval([slope, intercept], arr1)\n",
    "plt.rcParams['agg.path.chunksize'] = 10000\n",
    "# let's see a black line overlaid on the data\n",
    "plt.plot(arr1, evaluatedLine, 'k-')"
   ]
  },
  {
   "cell_type": "code",
   "execution_count": 124,
   "metadata": {
    "collapsed": false
   },
   "outputs": [
    {
     "name": "stderr",
     "output_type": "stream",
     "text": [
      "/Users/vgulbi/anaconda/lib/python3.5/site-packages/sklearn/utils/validation.py:386: DeprecationWarning: Passing 1d arrays as data is deprecated in 0.17 and willraise ValueError in 0.19. Reshape your data either using X.reshape(-1, 1) if your data has a single feature or X.reshape(1, -1) if it contains a single sample.\n",
      "  DeprecationWarning)\n"
     ]
    },
    {
     "ename": "ValueError",
     "evalue": "Found arrays with inconsistent numbers of samples: [     1 151889]",
     "output_type": "error",
     "traceback": [
      "\u001b[0;31m---------------------------------------------------------------------------\u001b[0m",
      "\u001b[0;31mValueError\u001b[0m                                Traceback (most recent call last)",
      "\u001b[0;32m<ipython-input-124-38fd2aba0b3e>\u001b[0m in \u001b[0;36m<module>\u001b[0;34m()\u001b[0m\n\u001b[1;32m      6\u001b[0m \u001b[0;31m# fit a logistic regression model to the data\u001b[0m\u001b[0;34m\u001b[0m\u001b[0;34m\u001b[0m\u001b[0m\n\u001b[1;32m      7\u001b[0m \u001b[0mmodel\u001b[0m \u001b[0;34m=\u001b[0m \u001b[0mLogisticRegression\u001b[0m\u001b[0;34m(\u001b[0m\u001b[0;34m)\u001b[0m\u001b[0;34m\u001b[0m\u001b[0m\n\u001b[0;32m----> 8\u001b[0;31m \u001b[0mmodel\u001b[0m\u001b[0;34m.\u001b[0m\u001b[0mfit\u001b[0m\u001b[0;34m(\u001b[0m\u001b[0marr1\u001b[0m\u001b[0;34m,\u001b[0m \u001b[0marr2\u001b[0m\u001b[0;34m)\u001b[0m\u001b[0;34m\u001b[0m\u001b[0m\n\u001b[0m\u001b[1;32m      9\u001b[0m \u001b[0mprint\u001b[0m\u001b[0;34m(\u001b[0m\u001b[0mmodel\u001b[0m\u001b[0;34m)\u001b[0m\u001b[0;34m\u001b[0m\u001b[0m\n\u001b[1;32m     10\u001b[0m \u001b[0;31m# make predictions\u001b[0m\u001b[0;34m\u001b[0m\u001b[0;34m\u001b[0m\u001b[0m\n",
      "\u001b[0;32m/Users/vgulbi/anaconda/lib/python3.5/site-packages/sklearn/linear_model/logistic.py\u001b[0m in \u001b[0;36mfit\u001b[0;34m(self, X, y, sample_weight)\u001b[0m\n\u001b[1;32m   1140\u001b[0m \u001b[0;34m\u001b[0m\u001b[0m\n\u001b[1;32m   1141\u001b[0m         X, y = check_X_y(X, y, accept_sparse='csr', dtype=np.float64, \n\u001b[0;32m-> 1142\u001b[0;31m                          order=\"C\")\n\u001b[0m\u001b[1;32m   1143\u001b[0m         \u001b[0mcheck_classification_targets\u001b[0m\u001b[0;34m(\u001b[0m\u001b[0my\u001b[0m\u001b[0;34m)\u001b[0m\u001b[0;34m\u001b[0m\u001b[0m\n\u001b[1;32m   1144\u001b[0m         \u001b[0mself\u001b[0m\u001b[0;34m.\u001b[0m\u001b[0mclasses_\u001b[0m \u001b[0;34m=\u001b[0m \u001b[0mnp\u001b[0m\u001b[0;34m.\u001b[0m\u001b[0munique\u001b[0m\u001b[0;34m(\u001b[0m\u001b[0my\u001b[0m\u001b[0;34m)\u001b[0m\u001b[0;34m\u001b[0m\u001b[0m\n",
      "\u001b[0;32m/Users/vgulbi/anaconda/lib/python3.5/site-packages/sklearn/utils/validation.py\u001b[0m in \u001b[0;36mcheck_X_y\u001b[0;34m(X, y, accept_sparse, dtype, order, copy, force_all_finite, ensure_2d, allow_nd, multi_output, ensure_min_samples, ensure_min_features, y_numeric, warn_on_dtype, estimator)\u001b[0m\n\u001b[1;32m    518\u001b[0m         \u001b[0my\u001b[0m \u001b[0;34m=\u001b[0m \u001b[0my\u001b[0m\u001b[0;34m.\u001b[0m\u001b[0mastype\u001b[0m\u001b[0;34m(\u001b[0m\u001b[0mnp\u001b[0m\u001b[0;34m.\u001b[0m\u001b[0mfloat64\u001b[0m\u001b[0;34m)\u001b[0m\u001b[0;34m\u001b[0m\u001b[0m\n\u001b[1;32m    519\u001b[0m \u001b[0;34m\u001b[0m\u001b[0m\n\u001b[0;32m--> 520\u001b[0;31m     \u001b[0mcheck_consistent_length\u001b[0m\u001b[0;34m(\u001b[0m\u001b[0mX\u001b[0m\u001b[0;34m,\u001b[0m \u001b[0my\u001b[0m\u001b[0;34m)\u001b[0m\u001b[0;34m\u001b[0m\u001b[0m\n\u001b[0m\u001b[1;32m    521\u001b[0m \u001b[0;34m\u001b[0m\u001b[0m\n\u001b[1;32m    522\u001b[0m     \u001b[0;32mreturn\u001b[0m \u001b[0mX\u001b[0m\u001b[0;34m,\u001b[0m \u001b[0my\u001b[0m\u001b[0;34m\u001b[0m\u001b[0m\n",
      "\u001b[0;32m/Users/vgulbi/anaconda/lib/python3.5/site-packages/sklearn/utils/validation.py\u001b[0m in \u001b[0;36mcheck_consistent_length\u001b[0;34m(*arrays)\u001b[0m\n\u001b[1;32m    174\u001b[0m     \u001b[0;32mif\u001b[0m \u001b[0mlen\u001b[0m\u001b[0;34m(\u001b[0m\u001b[0muniques\u001b[0m\u001b[0;34m)\u001b[0m \u001b[0;34m>\u001b[0m \u001b[0;36m1\u001b[0m\u001b[0;34m:\u001b[0m\u001b[0;34m\u001b[0m\u001b[0m\n\u001b[1;32m    175\u001b[0m         raise ValueError(\"Found arrays with inconsistent numbers of samples: \"\n\u001b[0;32m--> 176\u001b[0;31m                          \"%s\" % str(uniques))\n\u001b[0m\u001b[1;32m    177\u001b[0m \u001b[0;34m\u001b[0m\u001b[0m\n\u001b[1;32m    178\u001b[0m \u001b[0;34m\u001b[0m\u001b[0m\n",
      "\u001b[0;31mValueError\u001b[0m: Found arrays with inconsistent numbers of samples: [     1 151889]"
     ]
    }
   ],
   "source": []
  },
  {
   "cell_type": "code",
   "execution_count": 154,
   "metadata": {
    "collapsed": false
   },
   "outputs": [
    {
     "name": "stdout",
     "output_type": "stream",
     "text": [
      "Centre\n",
      "Optimization terminated successfully.\n",
      "         Current function value: 0.687349\n",
      "         Iterations 4\n",
      "                           Logit Regression Results                           \n",
      "==============================================================================\n",
      "Dep. Variable:           SHOT_RESULT2   No. Observations:                22910\n",
      "Model:                          Logit   Df Residuals:                    22909\n",
      "Method:                           MLE   Df Model:                            0\n",
      "Date:                Sun, 11 Dec 2016   Pseudo R-squ.:                0.008143\n",
      "Time:                        20:10:27   Log-Likelihood:                -15747.\n",
      "converged:                       True   LL-Null:                       -15876.\n",
      "                                        LLR p-value:                       nan\n",
      "==============================================================================\n",
      "                 coef    std err          z      P>|z|      [95.0% Conf. Int.]\n",
      "------------------------------------------------------------------------------\n",
      "SHOT_DIST     -0.0203      0.001    -16.166      0.000        -0.023    -0.018\n",
      "==============================================================================\n"
     ]
    }
   ],
   "source": [
    "print('Centre')\n",
    "attempt_c = MASTERBBDF[((MASTERBBDF['Pos']==\"C\"))]\n",
    "cols_to_keep = ['SHOT_RESULT2','SHOT_DIST']\n",
    "data = attempt_c[cols_to_keep]\n",
    "train_cols = data.columns[1:]\n",
    "logit = sm.Logit(data['SHOT_RESULT2'], data[train_cols])\n",
    "\n",
    "# fit the model\n",
    "result = logit.fit()\n",
    "result\n",
    "print (result.summary())\n",
    "\n",
    "#print (np.exp(result.params))"
   ]
  },
  {
   "cell_type": "code",
   "execution_count": 185,
   "metadata": {
    "collapsed": false
   },
   "outputs": [
    {
     "name": "stderr",
     "output_type": "stream",
     "text": [
      "/Users/vgulbi/anaconda/lib/python3.5/site-packages/ipykernel/__main__.py:6: SettingWithCopyWarning: \n",
      "A value is trying to be set on a copy of a slice from a DataFrame.\n",
      "Try using .loc[row_indexer,col_indexer] = value instead\n",
      "\n",
      "See the caveats in the documentation: http://pandas.pydata.org/pandas-docs/stable/indexing.html#indexing-view-versus-copy\n",
      "/Users/vgulbi/anaconda/lib/python3.5/site-packages/ipykernel/__main__.py:7: SettingWithCopyWarning: \n",
      "A value is trying to be set on a copy of a slice from a DataFrame.\n",
      "Try using .loc[row_indexer,col_indexer] = value instead\n",
      "\n",
      "See the caveats in the documentation: http://pandas.pydata.org/pandas-docs/stable/indexing.html#indexing-view-versus-copy\n",
      "/Users/vgulbi/anaconda/lib/python3.5/site-packages/sklearn/utils/validation.py:386: DeprecationWarning: Passing 1d arrays as data is deprecated in 0.17 and willraise ValueError in 0.19. Reshape your data either using X.reshape(-1, 1) if your data has a single feature or X.reshape(1, -1) if it contains a single sample.\n",
      "  DeprecationWarning)\n"
     ]
    },
    {
     "ename": "ValueError",
     "evalue": "Found arrays with inconsistent numbers of samples: [    1 22910]",
     "output_type": "error",
     "traceback": [
      "\u001b[0;31m---------------------------------------------------------------------------\u001b[0m",
      "\u001b[0;31mValueError\u001b[0m                                Traceback (most recent call last)",
      "\u001b[0;32m<ipython-input-185-3bb87a83efee>\u001b[0m in \u001b[0;36m<module>\u001b[0;34m()\u001b[0m\n\u001b[1;32m     20\u001b[0m \u001b[0;31m# Train the model\u001b[0m\u001b[0;34m\u001b[0m\u001b[0;34m\u001b[0m\u001b[0m\n\u001b[1;32m     21\u001b[0m log_model.fit(X = arr1, \n\u001b[0;32m---> 22\u001b[0;31m               y = arr2)\n\u001b[0m\u001b[1;32m     23\u001b[0m \u001b[0;34m\u001b[0m\u001b[0m\n\u001b[1;32m     24\u001b[0m \u001b[0;31m# Check trained model intercept\u001b[0m\u001b[0;34m\u001b[0m\u001b[0;34m\u001b[0m\u001b[0m\n",
      "\u001b[0;32m/Users/vgulbi/anaconda/lib/python3.5/site-packages/sklearn/linear_model/logistic.py\u001b[0m in \u001b[0;36mfit\u001b[0;34m(self, X, y, sample_weight)\u001b[0m\n\u001b[1;32m   1140\u001b[0m \u001b[0;34m\u001b[0m\u001b[0m\n\u001b[1;32m   1141\u001b[0m         X, y = check_X_y(X, y, accept_sparse='csr', dtype=np.float64, \n\u001b[0;32m-> 1142\u001b[0;31m                          order=\"C\")\n\u001b[0m\u001b[1;32m   1143\u001b[0m         \u001b[0mcheck_classification_targets\u001b[0m\u001b[0;34m(\u001b[0m\u001b[0my\u001b[0m\u001b[0;34m)\u001b[0m\u001b[0;34m\u001b[0m\u001b[0m\n\u001b[1;32m   1144\u001b[0m         \u001b[0mself\u001b[0m\u001b[0;34m.\u001b[0m\u001b[0mclasses_\u001b[0m \u001b[0;34m=\u001b[0m \u001b[0mnp\u001b[0m\u001b[0;34m.\u001b[0m\u001b[0munique\u001b[0m\u001b[0;34m(\u001b[0m\u001b[0my\u001b[0m\u001b[0;34m)\u001b[0m\u001b[0;34m\u001b[0m\u001b[0m\n",
      "\u001b[0;32m/Users/vgulbi/anaconda/lib/python3.5/site-packages/sklearn/utils/validation.py\u001b[0m in \u001b[0;36mcheck_X_y\u001b[0;34m(X, y, accept_sparse, dtype, order, copy, force_all_finite, ensure_2d, allow_nd, multi_output, ensure_min_samples, ensure_min_features, y_numeric, warn_on_dtype, estimator)\u001b[0m\n\u001b[1;32m    518\u001b[0m         \u001b[0my\u001b[0m \u001b[0;34m=\u001b[0m \u001b[0my\u001b[0m\u001b[0;34m.\u001b[0m\u001b[0mastype\u001b[0m\u001b[0;34m(\u001b[0m\u001b[0mnp\u001b[0m\u001b[0;34m.\u001b[0m\u001b[0mfloat64\u001b[0m\u001b[0;34m)\u001b[0m\u001b[0;34m\u001b[0m\u001b[0m\n\u001b[1;32m    519\u001b[0m \u001b[0;34m\u001b[0m\u001b[0m\n\u001b[0;32m--> 520\u001b[0;31m     \u001b[0mcheck_consistent_length\u001b[0m\u001b[0;34m(\u001b[0m\u001b[0mX\u001b[0m\u001b[0;34m,\u001b[0m \u001b[0my\u001b[0m\u001b[0;34m)\u001b[0m\u001b[0;34m\u001b[0m\u001b[0m\n\u001b[0m\u001b[1;32m    521\u001b[0m \u001b[0;34m\u001b[0m\u001b[0m\n\u001b[1;32m    522\u001b[0m     \u001b[0;32mreturn\u001b[0m \u001b[0mX\u001b[0m\u001b[0;34m,\u001b[0m \u001b[0my\u001b[0m\u001b[0;34m\u001b[0m\u001b[0m\n",
      "\u001b[0;32m/Users/vgulbi/anaconda/lib/python3.5/site-packages/sklearn/utils/validation.py\u001b[0m in \u001b[0;36mcheck_consistent_length\u001b[0;34m(*arrays)\u001b[0m\n\u001b[1;32m    174\u001b[0m     \u001b[0;32mif\u001b[0m \u001b[0mlen\u001b[0m\u001b[0;34m(\u001b[0m\u001b[0muniques\u001b[0m\u001b[0;34m)\u001b[0m \u001b[0;34m>\u001b[0m \u001b[0;36m1\u001b[0m\u001b[0;34m:\u001b[0m\u001b[0;34m\u001b[0m\u001b[0m\n\u001b[1;32m    175\u001b[0m         raise ValueError(\"Found arrays with inconsistent numbers of samples: \"\n\u001b[0;32m--> 176\u001b[0;31m                          \"%s\" % str(uniques))\n\u001b[0m\u001b[1;32m    177\u001b[0m \u001b[0;34m\u001b[0m\u001b[0m\n\u001b[1;32m    178\u001b[0m \u001b[0;34m\u001b[0m\u001b[0m\n",
      "\u001b[0;31mValueError\u001b[0m: Found arrays with inconsistent numbers of samples: [    1 22910]"
     ]
    }
   ],
   "source": [
    "from sklearn import linear_model\n",
    "from sklearn import preprocessing\n",
    "\n",
    "attempt_c = MASTERBBDF[((MASTERBBDF['Pos']==\"C\"))]\n",
    "import statsmodels.api as sm\n",
    "attempt_c['SHOT_RESULT2'] = attempt_c['SHOT_RESULT'].replace(1, 1)\n",
    "attempt_c['SHOT_RESULT2'] = attempt_c['SHOT_RESULT'].replace(-1, 0)\n",
    "#cols_to_keep = ['SHOT_RESULT2','SHOT_DIST',\"SHOT_CLOCK_test4\", \"Age\"]\n",
    "cols_to_keep = ['SHOT_RESULT2','SHOT_DIST']\n",
    "data = attempt_c[cols_to_keep]\n",
    "data = data.as_matrix()\n",
    "\n",
    "arr1 = data[:,0]\n",
    "arr2 =data[:,1]\n",
    "\n",
    "# Initialize logistic regression model\n",
    "\n",
    "log_model = linear_model.LogisticRegression()\n",
    "\n",
    "# Train the model\n",
    "log_model.fit(X = arr1, \n",
    "              y = arr2)\n",
    "\n",
    "# Check trained model intercept\n",
    "print(log_model.intercept_)\n",
    "\n",
    "# Check trained model coefficients\n",
    "print(log_model.coef_)"
   ]
  },
  {
   "cell_type": "code",
   "execution_count": 233,
   "metadata": {
    "collapsed": false
   },
   "outputs": [
    {
     "name": "stderr",
     "output_type": "stream",
     "text": [
      "/Users/vgulbi/anaconda/lib/python3.5/site-packages/ipykernel/__main__.py:10: VisibleDeprecationWarning: using a non-integer number instead of an integer will result in an error in the future\n"
     ]
    },
    {
     "ename": "IndexError",
     "evalue": "only integers, slices (`:`), ellipsis (`...`), numpy.newaxis (`None`) and integer or boolean arrays are valid indices",
     "output_type": "error",
     "traceback": [
      "\u001b[0;31m---------------------------------------------------------------------------\u001b[0m",
      "\u001b[0;31mIndexError\u001b[0m                                Traceback (most recent call last)",
      "\u001b[0;32m<ipython-input-233-a735cc87e85c>\u001b[0m in \u001b[0;36m<module>\u001b[0;34m()\u001b[0m\n\u001b[1;32m      8\u001b[0m \u001b[0;34m\u001b[0m\u001b[0m\n\u001b[1;32m      9\u001b[0m \u001b[0mdata\u001b[0m \u001b[0;34m=\u001b[0m \u001b[0mnp\u001b[0m\u001b[0;34m.\u001b[0m\u001b[0mravel\u001b[0m\u001b[0;34m(\u001b[0m\u001b[0mdata\u001b[0m\u001b[0;34m)\u001b[0m\u001b[0;34m\u001b[0m\u001b[0m\n\u001b[0;32m---> 10\u001b[0;31m \u001b[0mX_train\u001b[0m \u001b[0;34m=\u001b[0m \u001b[0mdata\u001b[0m\u001b[0;34m[\u001b[0m\u001b[0;34m[\u001b[0m\u001b[0;34m'SHOT_RESULT2'\u001b[0m\u001b[0;34m]\u001b[0m\u001b[0;34m]\u001b[0m \u001b[0;31m#define training X set\u001b[0m\u001b[0;34m\u001b[0m\u001b[0m\n\u001b[0m\u001b[1;32m     11\u001b[0m \u001b[0my_train\u001b[0m \u001b[0;34m=\u001b[0m \u001b[0mdata\u001b[0m\u001b[0;34m[\u001b[0m\u001b[0;34m[\u001b[0m\u001b[0;34m'SHOT_DIST'\u001b[0m\u001b[0;34m]\u001b[0m\u001b[0;34m]\u001b[0m \u001b[0;31m#define training y set\u001b[0m\u001b[0;34m\u001b[0m\u001b[0m\n\u001b[1;32m     12\u001b[0m \u001b[0;34m\u001b[0m\u001b[0m\n",
      "\u001b[0;31mIndexError\u001b[0m: only integers, slices (`:`), ellipsis (`...`), numpy.newaxis (`None`) and integer or boolean arrays are valid indices"
     ]
    }
   ],
   "source": [
    "\n",
    "attempt_c = MASTERBBDF[((MASTERBBDF['Pos']==\"C\"))]\n",
    "cols_to_keep = ['SHOT_RESULT2','SHOT_DIST']\n",
    "data = attempt_c[cols_to_keep]\n",
    "data = data.as_matrix()\n",
    "#arr1 = data[['SHOT_RESULT2']][1:22910]\n",
    "#arr2 = data[['SHOT_DIST']][1:22910]\n",
    "\n",
    "data = np.ravel(data)\n",
    "X_train = data[['SHOT_RESULT2']] #define training X set                                                                                                                           \n",
    "y_train = data[['SHOT_DIST']] #define training y set                                                                                                                          \n",
    "\n",
    "\n",
    "log_model = linear_model.LogisticRegression()\n",
    "\n",
    "# Train the model\n",
    "log_model.fit(y_train, \n",
    "              X_train)\n"
   ]
  },
  {
   "cell_type": "code",
   "execution_count": 155,
   "metadata": {
    "collapsed": false
   },
   "outputs": [
    {
     "name": "stdout",
     "output_type": "stream",
     "text": [
      "Odds Ratio\n",
      "SHOT_DIST    0.979938\n",
      "dtype: float64\n"
     ]
    }
   ],
   "source": [
    "print('Odds Ratio')\n",
    "print(np.exp(result.params))"
   ]
  },
  {
   "cell_type": "code",
   "execution_count": 152,
   "metadata": {
    "collapsed": false
   },
   "outputs": [
    {
     "name": "stdout",
     "output_type": "stream",
     "text": [
      "Shooting Guard\n",
      "Optimization terminated successfully.\n",
      "         Current function value: 0.671639\n",
      "         Iterations 4\n",
      "                           Logit Regression Results                           \n",
      "==============================================================================\n",
      "Dep. Variable:           SHOT_RESULT2   No. Observations:                33753\n",
      "Model:                          Logit   Df Residuals:                    33752\n",
      "Method:                           MLE   Df Model:                            0\n",
      "Date:                Sun, 11 Dec 2016   Pseudo R-squ.:                 0.01575\n",
      "Time:                        20:09:32   Log-Likelihood:                -22670.\n",
      "converged:                       True   LL-Null:                       -23033.\n",
      "                                        LLR p-value:                       nan\n",
      "==============================================================================\n",
      "                 coef    std err          z      P>|z|      [95.0% Conf. Int.]\n",
      "------------------------------------------------------------------------------\n",
      "SHOT_DIST     -0.0233      0.001    -37.434      0.000        -0.024    -0.022\n",
      "==============================================================================\n"
     ]
    }
   ],
   "source": [
    "print('Shooting Guard')\n",
    "attempt_c = MASTERBBDF[((MASTERBBDF['Pos']==\"SG\"))]\n",
    "cols_to_keep = ['SHOT_RESULT2','SHOT_DIST']\n",
    "data = attempt_c[cols_to_keep]\n",
    "train_cols = data.columns[1:]\n",
    "logit = sm.Logit(data['SHOT_RESULT2'], data[train_cols])\n",
    "\n",
    "# fit the model\n",
    "result = logit.fit()\n",
    "result\n",
    "print (result.summary())\n",
    "\n",
    "#print (np.exp(result.params))"
   ]
  },
  {
   "cell_type": "code",
   "execution_count": 153,
   "metadata": {
    "collapsed": false
   },
   "outputs": [
    {
     "name": "stdout",
     "output_type": "stream",
     "text": [
      "Odds Ratio\n",
      "SHOT_DIST    0.977007\n",
      "dtype: float64\n"
     ]
    }
   ],
   "source": [
    "print('Odds Ratio')\n",
    "print(np.exp(result.params))"
   ]
  },
  {
   "cell_type": "code",
   "execution_count": null,
   "metadata": {
    "collapsed": true
   },
   "outputs": [],
   "source": [
    "model = smf.glm(formula=formula, data=df, family=sm.families.Binomial())\n",
    "result = model.fit()\n",
    "print(result.summary())"
   ]
  },
  {
   "cell_type": "code",
   "execution_count": 149,
   "metadata": {
    "collapsed": false
   },
   "outputs": [
    {
     "name": "stdout",
     "output_type": "stream",
     "text": [
      "All\n",
      "Optimization terminated successfully.\n",
      "         Current function value: 0.675126\n",
      "         Iterations 4\n",
      "                           Logit Regression Results                           \n",
      "==============================================================================\n",
      "Dep. Variable:           SHOT_RESULT2   No. Observations:               151889\n",
      "Model:                          Logit   Df Residuals:                   151888\n",
      "Method:                           MLE   Df Model:                            0\n",
      "Date:                Sun, 11 Dec 2016   Pseudo R-squ.:                 0.01879\n",
      "Time:                        20:04:01   Log-Likelihood:            -1.0254e+05\n",
      "converged:                       True   LL-Null:                   -1.0451e+05\n",
      "                                        LLR p-value:                       nan\n",
      "==============================================================================\n",
      "                 coef    std err          z      P>|z|      [95.0% Conf. Int.]\n",
      "------------------------------------------------------------------------------\n",
      "SHOT_DIST     -0.0238      0.000    -72.693      0.000        -0.024    -0.023\n",
      "==============================================================================\n"
     ]
    }
   ],
   "source": [
    "print ('All')\n",
    "cols_to_keep = ['SHOT_RESULT2','SHOT_DIST']\n",
    "data = MASTERBBDF[cols_to_keep]\n",
    "train_cols = data.columns[1:]\n",
    "logit = sm.Logit(data['SHOT_RESULT2'], data[train_cols])\n",
    "\n",
    "# fit the model\n",
    "result = logit.fit()\n",
    "result\n",
    "print (result.summary())\n",
    "\n",
    "#print (np.exp(result.params))"
   ]
  },
  {
   "cell_type": "code",
   "execution_count": 150,
   "metadata": {
    "collapsed": false
   },
   "outputs": [
    {
     "name": "stdout",
     "output_type": "stream",
     "text": [
      "Odds Ratio\n",
      "SHOT_DIST    0.976515\n",
      "dtype: float64\n"
     ]
    }
   ],
   "source": [
    "print('Odds Ratio')\n",
    "print(np.exp(result.params))"
   ]
  },
  {
   "cell_type": "code",
   "execution_count": 120,
   "metadata": {
    "collapsed": false
   },
   "outputs": [
    {
     "name": "stdout",
     "output_type": "stream",
     "text": [
      "                      2.5%     97.5%        OR\n",
      "SHOT_DIST         0.957284  0.959518  0.958400\n",
      "SHOT_CLOCK_test4  1.020624  1.024160  1.022390\n",
      "Age               1.002430  1.004580  1.003504\n"
     ]
    }
   ],
   "source": [
    "params = result.params\n",
    "conf = result.conf_int()\n",
    "conf['OR'] = params\n",
    "conf.columns = ['2.5%', '97.5%', 'OR']\n",
    "print (np.exp(conf))\n"
   ]
  },
  {
   "cell_type": "code",
   "execution_count": 267,
   "metadata": {
    "collapsed": false
   },
   "outputs": [
    {
     "name": "stderr",
     "output_type": "stream",
     "text": [
      "/Users/vgulbi/anaconda/lib/python3.5/site-packages/sklearn/utils/validation.py:515: DataConversionWarning: A column-vector y was passed when a 1d array was expected. Please change the shape of y to (n_samples, ), for example using ravel().\n",
      "  y = column_or_1d(y, warn=True)\n"
     ]
    },
    {
     "name": "stdout",
     "output_type": "stream",
     "text": [
      "[ 1.  0.  0. ...,  0.  0.  1.]\n",
      "0.594012732983\n",
      "0.615670824155\n"
     ]
    }
   ],
   "source": [
    "# module imports\n",
    "from patsy import dmatrices\n",
    "import pandas as pd\n",
    "from sklearn.linear_model import LogisticRegression\n",
    "import statsmodels.discrete.discrete_model as sm\n",
    "\n",
    "# read in the data & create matrices\n",
    "\n",
    "y, X = dmatrices('SHOT_RESULT2 ~  SHOT_DIST', MASTERBBDF, return_type = 'dataframe')\n",
    "\n",
    "# sklearn output\n",
    "model = LogisticRegression(fit_intercept = False, C = 1e9)\n",
    "mdl = model.fit(X, y)\n",
    "model.coef_\n",
    "\n",
    "probs = model.predict_log_proba(X)\n",
    "probs\n",
    "predicted = model.predict(X)\n",
    "print (predicted)\n",
    "# sm\n",
    "#logit = sm.Logit(y, X)\n",
    "#logit.fit().params\n",
    "\n",
    "print (metrics.accuracy_score(y, predicted))\n",
    "print (metrics.roc_auc_score(y, probs[:, 1]))"
   ]
  },
  {
   "cell_type": "code",
   "execution_count": 224,
   "metadata": {
    "collapsed": false
   },
   "outputs": [
    {
     "name": "stdout",
     "output_type": "stream",
     "text": [
      "[[55600 28002]\n",
      " [33663 34624]]\n",
      "             precision    recall  f1-score   support\n",
      "\n",
      "        0.0       0.62      0.67      0.64     83602\n",
      "        1.0       0.55      0.51      0.53     68287\n",
      "\n",
      "avg / total       0.59      0.59      0.59    151889\n",
      "\n"
     ]
    }
   ],
   "source": [
    "print (metrics.confusion_matrix(y, predicted))\n",
    "print (metrics.classification_report(y, predicted))"
   ]
  },
  {
   "cell_type": "code",
   "execution_count": 231,
   "metadata": {
    "collapsed": false
   },
   "outputs": [
    {
     "name": "stderr",
     "output_type": "stream",
     "text": [
      "/Users/vgulbi/anaconda/lib/python3.5/site-packages/sklearn/utils/validation.py:515: DataConversionWarning: A column-vector y was passed when a 1d array was expected. Please change the shape of y to (n_samples, ), for example using ravel().\n",
      "  y = column_or_1d(y, warn=True)\n"
     ]
    },
    {
     "data": {
      "text/plain": [
       "SHOT_RESULT2    0.449585\n",
       "dtype: float64"
      ]
     },
     "execution_count": 231,
     "metadata": {},
     "output_type": "execute_result"
    }
   ],
   "source": [
    "model = LogisticRegression()\n",
    "model = model.fit(X, y)\n",
    "model.score(X, y)\n",
    "y.mean()"
   ]
  },
  {
   "cell_type": "code",
   "execution_count": 238,
   "metadata": {
    "collapsed": false
   },
   "outputs": [
    {
     "name": "stdout",
     "output_type": "stream",
     "text": [
      "[ 0.  1.  0. ...,  0.  1.  1.]\n"
     ]
    },
    {
     "name": "stderr",
     "output_type": "stream",
     "text": [
      "/Users/vgulbi/anaconda/lib/python3.5/site-packages/sklearn/utils/validation.py:515: DataConversionWarning: A column-vector y was passed when a 1d array was expected. Please change the shape of y to (n_samples, ), for example using ravel().\n",
      "  y = column_or_1d(y, warn=True)\n"
     ]
    }
   ],
   "source": [
    "X_train, X_test, y_train, y_test = train_test_split(X, y, test_size=0.3, random_state=0)\n",
    "model2 = LogisticRegression()\n",
    "model2.fit(X_train, y_train)\n",
    "predicted = model2.predict(X_test)\n",
    "print (predicted)"
   ]
  },
  {
   "cell_type": "code",
   "execution_count": 270,
   "metadata": {
    "collapsed": false
   },
   "outputs": [
    {
     "name": "stdout",
     "output_type": "stream",
     "text": [
      "[[ 0.5588746   0.4411254 ]\n",
      " [ 0.42466981  0.57533019]\n",
      " [ 0.6459171   0.3540829 ]\n",
      " ..., \n",
      " [ 0.64289781  0.35710219]\n",
      " [ 0.42789226  0.57210774]\n",
      " [ 0.43327651  0.56672349]]\n"
     ]
    },
    {
     "ename": "AttributeError",
     "evalue": "'tuple' object has no attribute 'plot'",
     "output_type": "error",
     "traceback": [
      "\u001b[0;31m---------------------------------------------------------------------------\u001b[0m",
      "\u001b[0;31mAttributeError\u001b[0m                            Traceback (most recent call last)",
      "\u001b[0;32m<ipython-input-270-724958140ef0>\u001b[0m in \u001b[0;36m<module>\u001b[0;34m()\u001b[0m\n\u001b[1;32m      3\u001b[0m \u001b[0;34m\u001b[0m\u001b[0m\n\u001b[1;32m      4\u001b[0m \u001b[0mdf\u001b[0m \u001b[0;34m=\u001b[0m \u001b[0mpd\u001b[0m\u001b[0;34m.\u001b[0m\u001b[0mDataFrame\u001b[0m\u001b[0;34m(\u001b[0m\u001b[0mprobs\u001b[0m\u001b[0;34m,\u001b[0m\u001b[0mindex\u001b[0m\u001b[0;34m=\u001b[0m\u001b[0mprobs\u001b[0m\u001b[0;34m[\u001b[0m\u001b[0;34m:\u001b[0m\u001b[0;34m,\u001b[0m\u001b[0;36m0\u001b[0m\u001b[0;34m]\u001b[0m\u001b[0;34m)\u001b[0m\u001b[0;34m,\u001b[0m\u001b[0;34m\u001b[0m\u001b[0m\n\u001b[0;32m----> 5\u001b[0;31m \u001b[0mdf\u001b[0m\u001b[0;34m.\u001b[0m\u001b[0mplot\u001b[0m\u001b[0;34m(\u001b[0m\u001b[0;34m)\u001b[0m\u001b[0;34m\u001b[0m\u001b[0m\n\u001b[0m",
      "\u001b[0;31mAttributeError\u001b[0m: 'tuple' object has no attribute 'plot'"
     ]
    }
   ],
   "source": [
    "probs = model2.predict_proba(X_test)\n",
    "print (probs)\n",
    "\n",
    "df = pd.DataFrame(probs,index=probs[:,0]),\n",
    "df.plot()"
   ]
  },
  {
   "cell_type": "code",
   "execution_count": 245,
   "metadata": {
    "collapsed": false
   },
   "outputs": [
    {
     "name": "stdout",
     "output_type": "stream",
     "text": [
      "0.594092215858\n",
      "0.617026799625\n"
     ]
    }
   ],
   "source": [
    "print (metrics.accuracy_score(y_test, predicted))\n",
    "print (metrics.roc_auc_score(y_test, probs[:, 1]))\n",
    "\n"
   ]
  },
  {
   "cell_type": "code",
   "execution_count": 228,
   "metadata": {
    "collapsed": true
   },
   "outputs": [],
   "source": [
    "import numpy as np\n",
    "import pandas as pd\n",
    "import statsmodels.api as sm\n",
    "import matplotlib.pyplot as plt\n",
    "from patsy import dmatrices\n",
    "from sklearn.linear_model import LogisticRegression\n",
    "from sklearn.cross_validation import train_test_split\n",
    "from sklearn import metrics\n",
    "from sklearn.cross_validation import cross_val_score"
   ]
  },
  {
   "cell_type": "code",
   "execution_count": 265,
   "metadata": {
    "collapsed": false
   },
   "outputs": [
    {
     "ename": "TypeError",
     "evalue": "predict_proba() takes 2 positional arguments but 3 were given",
     "output_type": "error",
     "traceback": [
      "\u001b[0;31m---------------------------------------------------------------------------\u001b[0m",
      "\u001b[0;31mTypeError\u001b[0m                                 Traceback (most recent call last)",
      "\u001b[0;32m<ipython-input-265-e20472fa24c9>\u001b[0m in \u001b[0;36m<module>\u001b[0;34m()\u001b[0m\n\u001b[1;32m      3\u001b[0m \u001b[0mprobs\u001b[0m \u001b[0;34m=\u001b[0m \u001b[0;34m[\u001b[0m\u001b[0;34m]\u001b[0m\u001b[0;34m\u001b[0m\u001b[0m\n\u001b[1;32m      4\u001b[0m \u001b[0;32mfor\u001b[0m \u001b[0ma\u001b[0m \u001b[0;32min\u001b[0m \u001b[0mDist\u001b[0m\u001b[0;34m[\u001b[0m\u001b[0;34m\"SHOT_DIST\"\u001b[0m\u001b[0;34m]\u001b[0m\u001b[0;34m:\u001b[0m\u001b[0;34m\u001b[0m\u001b[0m\n\u001b[0;32m----> 5\u001b[0;31m     \u001b[0mprobs\u001b[0m \u001b[0;34m=\u001b[0m\u001b[0mprobs\u001b[0m\u001b[0;34m.\u001b[0m\u001b[0mappend\u001b[0m\u001b[0;34m(\u001b[0m\u001b[0;34m(\u001b[0m\u001b[0mmodel\u001b[0m\u001b[0;34m.\u001b[0m\u001b[0mpredict_proba\u001b[0m\u001b[0;34m(\u001b[0m\u001b[0;36m1\u001b[0m\u001b[0;34m,\u001b[0m\u001b[0ma\u001b[0m\u001b[0;34m)\u001b[0m\u001b[0;34m)\u001b[0m\u001b[0;34m)\u001b[0m\u001b[0;34m\u001b[0m\u001b[0m\n\u001b[0m",
      "\u001b[0;31mTypeError\u001b[0m: predict_proba() takes 2 positional arguments but 3 were given"
     ]
    }
   ],
   "source": [
    "Dist = MASTERBBDF[[\"SHOT_RESULT\", \"SHOT_DIST\"]]\n",
    "\n",
    "probs = []\n",
    "for a in Dist[\"SHOT_DIST\"]:\n",
    "    probs =probs.append((model.predict_proba(1,a)))"
   ]
  },
  {
   "cell_type": "code",
   "execution_count": null,
   "metadata": {
    "collapsed": true
   },
   "outputs": [],
   "source": [
    "model.predict_proba(np.array("
   ]
  },
  {
   "cell_type": "code",
   "execution_count": null,
   "metadata": {
    "collapsed": false
   },
   "outputs": [],
   "source": [
    "#All shot attempts\n",
    "\n",
    "shot_dist_bin = MASTERBBDF[((MASTERBBDF['SHOT_RESULT']==1) &(MASTERBBDF['PERIOD']<=4))]\n",
    "shot_dist_bin2 = MASTERBBDF[(MASTERBBDF['SHOT_RESULT']==-1)]\n",
    "shot_dist_bin = shot_dist_bin.pivot_table(values = ['SHOT_RESULT'], index=['PERIOD'], aggfunc = 'sum')\n",
    "shot_dist_bin.reset_index(level=0, inplace=True)\n",
    "shot_dist_bin\n",
    "\n",
    "shots_attempted = MASTERBBDF.pivot_table(values = ['shots_attempted'], index=['PERIOD'], aggfunc = 'sum')\n",
    "shots_attempted.reset_index(level=0, inplace=True)\n",
    "shots_attempted\n",
    "\n",
    "\n",
    "shotperc = pd.merge(shot_dist_bin,shots_attempted,left_on ='PERIOD', right_on ='PERIOD')\n",
    "shotperc\n",
    "\n",
    "def percentage_shot(a,b):\n",
    "    return (a/b)*100\n",
    "\n",
    "percentage_shot = shotperc.apply(lambda x: percentage_shot(x['SHOT_RESULT'],x['shots_attempted']), axis=1)\n",
    "shotperc['percentage_shot'] =percentage_shot\n",
    "shotperc"
   ]
  },
  {
   "cell_type": "code",
   "execution_count": null,
   "metadata": {
    "collapsed": false
   },
   "outputs": [],
   "source": [
    "#All shot attempts - W\n",
    "\n",
    "shot_dist_bin = MASTERBBDF[((MASTERBBDF['SHOT_RESULT']==1) &(MASTERBBDF['PERIOD']<=4) &(MASTERBBDF['W']==1))]\n",
    "shot_dist_bin2 = MASTERBBDF[(MASTERBBDF['W']==1)]\n",
    "shot_dist_bin = shot_dist_bin.pivot_table(values = ['SHOT_RESULT'], index=['PERIOD'], aggfunc = 'sum')\n",
    "shot_dist_bin.reset_index(level=0, inplace=True)\n",
    "shot_dist_bin\n",
    "\n",
    "shots_attempted = shot_dist_bin2.pivot_table(values = ['shots_attempted'], index=['PERIOD'], aggfunc = 'sum')\n",
    "shots_attempted.reset_index(level=0, inplace=True)\n",
    "shots_attempted\n",
    "\n",
    "\n",
    "shotperc = pd.merge(shot_dist_bin,shots_attempted,left_on ='PERIOD', right_on ='PERIOD')\n",
    "shotperc\n",
    "\n",
    "def percentage_shot(a,b):\n",
    "    return (a/b)*100\n",
    "\n",
    "percentage_shot = shotperc.apply(lambda x: percentage_shot(x['SHOT_RESULT'],x['shots_attempted']), axis=1)\n",
    "shotperc['percentage_shot'] =percentage_shot\n",
    "shotperc"
   ]
  },
  {
   "cell_type": "code",
   "execution_count": null,
   "metadata": {
    "collapsed": false
   },
   "outputs": [],
   "source": [
    "#All shot attempts - W\n",
    "\n",
    "shot_dist_bin = MASTERBBDF[((MASTERBBDF['SHOT_RESULT']==1) &(MASTERBBDF['PERIOD']<=4) &(MASTERBBDF['W']==-1))]\n",
    "shot_dist_bin2 = MASTERBBDF[(MASTERBBDF['W']==-1)]\n",
    "shot_dist_bin = shot_dist_bin.pivot_table(values = ['SHOT_RESULT'], index=['PERIOD'], aggfunc = 'sum')\n",
    "shot_dist_bin.reset_index(level=0, inplace=True)\n",
    "shot_dist_bin\n",
    "\n",
    "shots_attempted = shot_dist_bin2.pivot_table(values = ['shots_attempted'], index=['PERIOD'], aggfunc = 'sum')\n",
    "shots_attempted.reset_index(level=0, inplace=True)\n",
    "shots_attempted\n",
    "\n",
    "\n",
    "shotperc = pd.merge(shot_dist_bin,shots_attempted,left_on ='PERIOD', right_on ='PERIOD')\n",
    "shotperc\n",
    "\n",
    "def percentage_shot(a,b):\n",
    "    return (a/b)*100\n",
    "\n",
    "percentage_shot = shotperc.apply(lambda x: percentage_shot(x['SHOT_RESULT'],x['shots_attempted']), axis=1)\n",
    "shotperc['percentage_shot'] =percentage_shot\n",
    "shotperc"
   ]
  },
  {
   "cell_type": "code",
   "execution_count": null,
   "metadata": {
    "collapsed": false
   },
   "outputs": [],
   "source": [
    "#All shot attempts -  JONAS VALANCIUNAS\n",
    "\n",
    "shot_dist_bin = MASTERBBDF[((MASTERBBDF['SHOT_RESULT']==1) &(MASTERBBDF['Player']=='JONAS VALANCIUNAS'))]\n",
    "shot_dist_bin2 = MASTERBBDF[(MASTERBBDF['Player']=='JONAS VALANCIUNAS')]\n",
    "shot_dist_bin = shot_dist_bin.pivot_table(values = ['SHOT_RESULT'], index=['shot_dist_bin'], aggfunc = 'sum')\n",
    "shot_dist_bin.reset_index(level=0, inplace=True)\n",
    "shot_dist_bin\n",
    "\n",
    "shots_attempted = shot_dist_bin2.pivot_table(values = ['shots_attempted'], index=['shot_dist_bin'], aggfunc = 'sum')\n",
    "shots_attempted.reset_index(level=0, inplace=True)\n",
    "shots_attempted\n",
    "\n",
    "\n",
    "shotperc = pd.merge(shot_dist_bin,shots_attempted,left_on ='shot_dist_bin', right_on ='shot_dist_bin')\n",
    "shotperc\n",
    "\n",
    "def percentage_shot(a,b):\n",
    "    return (a/b)*100\n",
    "\n",
    "percentage_shot = shotperc.apply(lambda x: percentage_shot(x['SHOT_RESULT'],x['shots_attempted']), axis=1)\n",
    "shotperc['percentage_shot'] =percentage_shot\n",
    "shotperc"
   ]
  },
  {
   "cell_type": "code",
   "execution_count": null,
   "metadata": {
    "collapsed": false
   },
   "outputs": [],
   "source": [
    "shot_dist_bin2.max()"
   ]
  },
  {
   "cell_type": "code",
   "execution_count": null,
   "metadata": {
    "collapsed": false
   },
   "outputs": [],
   "source": [
    "# 2 point shots\n",
    "shot_dist_bin = MASTERBBDF[((MASTERBBDF['SHOT_RESULT']==1)& (MASTERBBDF['PTS_TYPE']==2))]\n",
    "shot_dist_bin2 = MASTERBBDF[((MASTERBBDF['PTS_TYPE']==2) )]\n",
    "shot_dist_bin = shot_dist_bin.pivot_table(values = ['SHOT_RESULT'], index=['shot_dist_bin'], aggfunc = 'sum')\n",
    "shot_dist_bin.reset_index(level=0, inplace=True)\n",
    "shot_dist_bin\n",
    "\n",
    "shots_attempted = shot_dist_bin2.pivot_table(values = ['shots_attempted'], index=['shot_dist_bin'], aggfunc = 'sum')\n",
    "shots_attempted.reset_index(level=0, inplace=True)\n",
    "shots_attempted\n",
    "\n",
    "\n",
    "shotperc = pd.merge(shot_dist_bin,shots_attempted,left_on ='shot_dist_bin', right_on ='shot_dist_bin')\n",
    "shotperc\n",
    "\n",
    "def percentage_shot(a,b):\n",
    "    return (a/b)*100\n",
    "\n",
    "percentage_shot = shotperc.apply(lambda x: percentage_shot(x['SHOT_RESULT'],x['shots_attempted']), axis=1)\n",
    "shotperc['percentage_shot'] =percentage_shot\n",
    "shotperc\n"
   ]
  },
  {
   "cell_type": "code",
   "execution_count": null,
   "metadata": {
    "collapsed": false
   },
   "outputs": [],
   "source": [
    "# 2 point shots Loser\n",
    "\n",
    "shot_dist_bin = MASTERBBDF[((MASTERBBDF['SHOT_RESULT']==1)& (MASTERBBDF['W']==-1)&  (MASTERBBDF['PTS_TYPE']==2)& (MASTERBBDF['PERIOD']<=4))]\n",
    "shot_dist_bin2 = MASTERBBDF[((MASTERBBDF['PTS_TYPE']==2) & (MASTERBBDF['W']==-1)&  (MASTERBBDF['PERIOD']<=4))]\n",
    "shot_dist_bin = shot_dist_bin.pivot_table(values = ['SHOT_RESULT'], index=['PERIOD'], aggfunc = 'sum')\n",
    "shot_dist_bin.reset_index(level=0, inplace=True)\n",
    "shot_dist_bin\n",
    "\n",
    "shots_attempted = shot_dist_bin2.pivot_table(values = ['shots_attempted'], index=['PERIOD'], aggfunc = 'sum')\n",
    "shots_attempted.reset_index(level=0, inplace=True)\n",
    "shots_attempted\n",
    "\n",
    "\n",
    "shotperc = pd.merge(shot_dist_bin,shots_attempted,left_on ='PERIOD', right_on ='PERIOD')\n",
    "shotperc\n",
    "\n",
    "def percentage_shot(a,b):\n",
    "    return (a/b)*100\n",
    "\n",
    "percentage_shot = shotperc.apply(lambda x: percentage_shot(x['SHOT_RESULT'],x['shots_attempted']), axis=1)\n",
    "shotperc['percentage_shot'] =percentage_shot\n",
    "shotperc"
   ]
  },
  {
   "cell_type": "code",
   "execution_count": null,
   "metadata": {
    "collapsed": false
   },
   "outputs": [],
   "source": [
    "# 2 point shots WINNER\n",
    "\n",
    "shot_dist_bin = MASTERBBDF[((MASTERBBDF['SHOT_RESULT']==1)& (MASTERBBDF['W']==1)&  (MASTERBBDF['PTS_TYPE']==2)& (MASTERBBDF['PERIOD']<=4))]\n",
    "shot_dist_bin2 = MASTERBBDF[((MASTERBBDF['PTS_TYPE']==2) & (MASTERBBDF['W']==1)&  (MASTERBBDF['PERIOD']<=4))]\n",
    "shot_dist_bin = shot_dist_bin.pivot_table(values = ['SHOT_RESULT'], index=['PERIOD'], aggfunc = 'sum')\n",
    "shot_dist_bin.reset_index(level=0, inplace=True)\n",
    "shot_dist_bin\n",
    "\n",
    "shots_attempted = shot_dist_bin2.pivot_table(values = ['shots_attempted'], index=['PERIOD'], aggfunc = 'sum')\n",
    "shots_attempted.reset_index(level=0, inplace=True)\n",
    "shots_attempted\n",
    "\n",
    "\n",
    "shotperc = pd.merge(shot_dist_bin,shots_attempted,left_on ='PERIOD', right_on ='PERIOD')\n",
    "shotperc\n",
    "\n",
    "def percentage_shot(a,b):\n",
    "    return (a/b)*100\n",
    "\n",
    "percentage_shot = shotperc.apply(lambda x: percentage_shot(x['SHOT_RESULT'],x['shots_attempted']), axis=1)\n",
    "shotperc['percentage_shot'] =percentage_shot\n",
    "shotperc"
   ]
  },
  {
   "cell_type": "code",
   "execution_count": null,
   "metadata": {
    "collapsed": false
   },
   "outputs": [],
   "source": [
    "#3 point \n",
    "\n",
    "shot_dist_bin = MASTERBBDF[((MASTERBBDF['SHOT_RESULT']==1)& (MASTERBBDF['PTS_TYPE']==3))]\n",
    "shot_dist_bin2 = MASTERBBDF[((MASTERBBDF['PTS_TYPE']==3) )]\n",
    "shot_dist_bin = shot_dist_bin.pivot_table(values = ['SHOT_RESULT'], index=['shot_dist_bin'], aggfunc = 'sum')\n",
    "shot_dist_bin.reset_index(level=0, inplace=True)\n",
    "shot_dist_bin\n",
    "\n",
    "shots_attempted = shot_dist_bin2.pivot_table(values = ['shots_attempted'], index=['shot_dist_bin'], aggfunc = 'sum')\n",
    "shots_attempted.reset_index(level=0, inplace=True)\n",
    "shots_attempted\n",
    "\n",
    "\n",
    "shotperc = pd.merge(shot_dist_bin,shots_attempted,left_on ='shot_dist_bin', right_on ='shot_dist_bin')\n",
    "shotperc\n",
    "\n",
    "def percentage_shot(a,b):\n",
    "    return (a/b)*100\n",
    "\n",
    "percentage_shot = shotperc.apply(lambda x: percentage_shot(x['SHOT_RESULT'],x['shots_attempted']), axis=1)\n",
    "shotperc['percentage_shot'] =percentage_shot\n",
    "shotperc"
   ]
  },
  {
   "cell_type": "code",
   "execution_count": null,
   "metadata": {
    "collapsed": false
   },
   "outputs": [],
   "source": [
    "#3 point loser\n",
    "\n",
    "shot_dist_bin = MASTERBBDF[((MASTERBBDF['SHOT_RESULT']==1)& (MASTERBBDF['PTS_TYPE']==3) & (MASTERBBDF['W']==-1)& (MASTERBBDF['PERIOD']<=4))]\n",
    "shot_dist_bin2 = MASTERBBDF[((MASTERBBDF['PTS_TYPE']==3) & (MASTERBBDF['W']==-1)& (MASTERBBDF['PERIOD']<=4))]\n",
    "shot_dist_bin = shot_dist_bin.pivot_table(values = ['SHOT_RESULT'], index=['PERIOD'], aggfunc = 'sum')\n",
    "shot_dist_bin.reset_index(level=0, inplace=True)\n",
    "shot_dist_bin\n",
    "\n",
    "shots_attempted = shot_dist_bin2.pivot_table(values = ['shots_attempted'], index=['PERIOD'], aggfunc = 'sum')\n",
    "shots_attempted.reset_index(level=0, inplace=True)\n",
    "shots_attempted\n",
    "\n",
    "\n",
    "shotperc = pd.merge(shot_dist_bin,shots_attempted,left_on ='PERIOD', right_on ='PERIOD')\n",
    "shotperc\n",
    "\n",
    "def percentage_shot(a,b):\n",
    "    return (a/b)*100\n",
    "\n",
    "percentage_shot = shotperc.apply(lambda x: percentage_shot(x['SHOT_RESULT'],x['shots_attempted']), axis=1)\n",
    "shotperc['percentage_shot'] =percentage_shot\n",
    "shotperc"
   ]
  },
  {
   "cell_type": "code",
   "execution_count": null,
   "metadata": {
    "collapsed": false
   },
   "outputs": [],
   "source": [
    "#3 point winner\n",
    "\n",
    "shot_dist_bin = MASTERBBDF[((MASTERBBDF['SHOT_RESULT']==1)& (MASTERBBDF['PTS_TYPE']==3) & (MASTERBBDF['W']==1)& (MASTERBBDF['PERIOD']<=4))]\n",
    "shot_dist_bin2 = MASTERBBDF[((MASTERBBDF['PTS_TYPE']==3) & (MASTERBBDF['W']==1)& (MASTERBBDF['PERIOD']<=4))]\n",
    "shot_dist_bin = shot_dist_bin.pivot_table(values = ['SHOT_RESULT'], index=['PERIOD'], aggfunc = 'sum')\n",
    "shot_dist_bin.reset_index(level=0, inplace=True)\n",
    "shot_dist_bin\n",
    "\n",
    "shots_attempted = shot_dist_bin2.pivot_table(values = ['shots_attempted'], index=['PERIOD'], aggfunc = 'sum')\n",
    "shots_attempted.reset_index(level=0, inplace=True)\n",
    "shots_attempted\n",
    "\n",
    "\n",
    "shotperc = pd.merge(shot_dist_bin,shots_attempted,left_on ='PERIOD', right_on ='PERIOD')\n",
    "shotperc\n",
    "\n",
    "def percentage_shot(a,b):\n",
    "    return (a/b)*100\n",
    "\n",
    "percentage_shot = shotperc.apply(lambda x: percentage_shot(x['SHOT_RESULT'],x['shots_attempted']), axis=1)\n",
    "shotperc['percentage_shot'] =percentage_shot\n",
    "shotperc"
   ]
  },
  {
   "cell_type": "code",
   "execution_count": null,
   "metadata": {
    "collapsed": false
   },
   "outputs": [],
   "source": [
    "from sklearn.datasets import load_iris\n",
    "from sklearn.decomposition import FactorAnalysis\n",
    "iris = load_iris()\n",
    "X, y = iris.data, iris.target\n",
    "factor = FactorAnalysis(n_components=4, random_state=101).fit(X)\n",
    "factor"
   ]
  },
  {
   "cell_type": "code",
   "execution_count": null,
   "metadata": {
    "collapsed": false
   },
   "outputs": [],
   "source": [
    "#3 point winner\n",
    "\n",
    "pt3tm = MASTERBBDF[((MASTERBBDF['PTS_TYPE']==3))]\n",
    "pt3tm = pt3tm.pivot_table(values = ['shots_attempted'], index=['Tm'], aggfunc = 'sum')\n",
    "pt3tm.reset_index(level=0, inplace=True)\n",
    "pt3tm.min()\n",
    "\n",
    "pt3tm = MASTERBBDF[((MASTERBBDF['PTS_TYPE']==3)&(MASTERBBDF['SHOT_RESULT']==1))]\n",
    "pt3tm = pt3tm.pivot_table(values = ['shots_attempted'], index=['Tm'], aggfunc = 'sum')\n",
    "pt3tm.reset_index(level=0, inplace=True)\n",
    "pt3tm.max()\n"
   ]
  },
  {
   "cell_type": "markdown",
   "metadata": {},
   "source": []
  },
  {
   "cell_type": "markdown",
   "metadata": {},
   "source": [
    "### "
   ]
  }
 ],
 "metadata": {
  "anaconda-cloud": {},
  "kernelspec": {
   "display_name": "Python 3",
   "language": "python",
   "name": "python3"
  },
  "language_info": {
   "codemirror_mode": {
    "name": "ipython",
    "version": 3
   },
   "file_extension": ".py",
   "mimetype": "text/x-python",
   "name": "python",
   "nbconvert_exporter": "python",
   "pygments_lexer": "ipython3",
   "version": "3.6.3"
  }
 },
 "nbformat": 4,
 "nbformat_minor": 2
}
